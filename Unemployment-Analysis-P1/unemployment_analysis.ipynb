{
 "cells": [
  {
   "cell_type": "code",
   "execution_count": 28,
   "metadata": {},
   "outputs": [],
   "source": [
    "import pandas as pd\n",
    "import numpy as np\n",
    "\n",
    "import matplotlib.pyplot as plt\n",
    "import seaborn as sns\n",
    "import plotly.express as px\n",
    "\n",
    "import warnings\n",
    "warnings.filterwarnings(\"ignore\")\n",
    "\n",
    "sns.set(style=\"whitegrid\")\n"
   ]
  },
  {
   "cell_type": "code",
   "execution_count": 29,
   "metadata": {},
   "outputs": [
    {
     "name": "stdout",
     "output_type": "stream",
     "text": [
      "Unemployment Data:\n"
     ]
    },
    {
     "data": {
      "text/html": [
       "<div>\n",
       "<style scoped>\n",
       "    .dataframe tbody tr th:only-of-type {\n",
       "        vertical-align: middle;\n",
       "    }\n",
       "\n",
       "    .dataframe tbody tr th {\n",
       "        vertical-align: top;\n",
       "    }\n",
       "\n",
       "    .dataframe thead th {\n",
       "        text-align: right;\n",
       "    }\n",
       "</style>\n",
       "<table border=\"1\" class=\"dataframe\">\n",
       "  <thead>\n",
       "    <tr style=\"text-align: right;\">\n",
       "      <th></th>\n",
       "      <th>Region</th>\n",
       "      <th>Date</th>\n",
       "      <th>Frequency</th>\n",
       "      <th>Estimated Unemployment Rate (%)</th>\n",
       "      <th>Estimated Employed</th>\n",
       "      <th>Estimated Labour Participation Rate (%)</th>\n",
       "      <th>Area</th>\n",
       "    </tr>\n",
       "  </thead>\n",
       "  <tbody>\n",
       "    <tr>\n",
       "      <th>0</th>\n",
       "      <td>Andhra Pradesh</td>\n",
       "      <td>31-05-2019</td>\n",
       "      <td>Monthly</td>\n",
       "      <td>3.65</td>\n",
       "      <td>11999139.0</td>\n",
       "      <td>43.24</td>\n",
       "      <td>Rural</td>\n",
       "    </tr>\n",
       "    <tr>\n",
       "      <th>1</th>\n",
       "      <td>Andhra Pradesh</td>\n",
       "      <td>30-06-2019</td>\n",
       "      <td>Monthly</td>\n",
       "      <td>3.05</td>\n",
       "      <td>11755881.0</td>\n",
       "      <td>42.05</td>\n",
       "      <td>Rural</td>\n",
       "    </tr>\n",
       "    <tr>\n",
       "      <th>2</th>\n",
       "      <td>Andhra Pradesh</td>\n",
       "      <td>31-07-2019</td>\n",
       "      <td>Monthly</td>\n",
       "      <td>3.75</td>\n",
       "      <td>12086707.0</td>\n",
       "      <td>43.50</td>\n",
       "      <td>Rural</td>\n",
       "    </tr>\n",
       "    <tr>\n",
       "      <th>3</th>\n",
       "      <td>Andhra Pradesh</td>\n",
       "      <td>31-08-2019</td>\n",
       "      <td>Monthly</td>\n",
       "      <td>3.32</td>\n",
       "      <td>12285693.0</td>\n",
       "      <td>43.97</td>\n",
       "      <td>Rural</td>\n",
       "    </tr>\n",
       "    <tr>\n",
       "      <th>4</th>\n",
       "      <td>Andhra Pradesh</td>\n",
       "      <td>30-09-2019</td>\n",
       "      <td>Monthly</td>\n",
       "      <td>5.17</td>\n",
       "      <td>12256762.0</td>\n",
       "      <td>44.68</td>\n",
       "      <td>Rural</td>\n",
       "    </tr>\n",
       "  </tbody>\n",
       "</table>\n",
       "</div>"
      ],
      "text/plain": [
       "           Region         Date  Frequency   Estimated Unemployment Rate (%)  \\\n",
       "0  Andhra Pradesh   31-05-2019    Monthly                              3.65   \n",
       "1  Andhra Pradesh   30-06-2019    Monthly                              3.05   \n",
       "2  Andhra Pradesh   31-07-2019    Monthly                              3.75   \n",
       "3  Andhra Pradesh   31-08-2019    Monthly                              3.32   \n",
       "4  Andhra Pradesh   30-09-2019    Monthly                              5.17   \n",
       "\n",
       "    Estimated Employed   Estimated Labour Participation Rate (%)   Area  \n",
       "0           11999139.0                                     43.24  Rural  \n",
       "1           11755881.0                                     42.05  Rural  \n",
       "2           12086707.0                                     43.50  Rural  \n",
       "3           12285693.0                                     43.97  Rural  \n",
       "4           12256762.0                                     44.68  Rural  "
      ]
     },
     "metadata": {},
     "output_type": "display_data"
    },
    {
     "name": "stdout",
     "output_type": "stream",
     "text": [
      "\n",
      "State Coordinates Data:\n"
     ]
    },
    {
     "data": {
      "text/html": [
       "<div>\n",
       "<style scoped>\n",
       "    .dataframe tbody tr th:only-of-type {\n",
       "        vertical-align: middle;\n",
       "    }\n",
       "\n",
       "    .dataframe tbody tr th {\n",
       "        vertical-align: top;\n",
       "    }\n",
       "\n",
       "    .dataframe thead th {\n",
       "        text-align: right;\n",
       "    }\n",
       "</style>\n",
       "<table border=\"1\" class=\"dataframe\">\n",
       "  <thead>\n",
       "    <tr style=\"text-align: right;\">\n",
       "      <th></th>\n",
       "      <th>Region</th>\n",
       "      <th>latitude</th>\n",
       "      <th>longitude</th>\n",
       "    </tr>\n",
       "  </thead>\n",
       "  <tbody>\n",
       "    <tr>\n",
       "      <th>0</th>\n",
       "      <td>Andhra Pradesh</td>\n",
       "      <td>15.9129</td>\n",
       "      <td>79.7400</td>\n",
       "    </tr>\n",
       "    <tr>\n",
       "      <th>1</th>\n",
       "      <td>Arunachal Pradesh</td>\n",
       "      <td>28.2180</td>\n",
       "      <td>94.7278</td>\n",
       "    </tr>\n",
       "    <tr>\n",
       "      <th>2</th>\n",
       "      <td>Assam</td>\n",
       "      <td>26.2006</td>\n",
       "      <td>92.9376</td>\n",
       "    </tr>\n",
       "    <tr>\n",
       "      <th>3</th>\n",
       "      <td>Bihar</td>\n",
       "      <td>25.0961</td>\n",
       "      <td>85.3131</td>\n",
       "    </tr>\n",
       "    <tr>\n",
       "      <th>4</th>\n",
       "      <td>Chhattisgarh</td>\n",
       "      <td>21.2787</td>\n",
       "      <td>81.8661</td>\n",
       "    </tr>\n",
       "  </tbody>\n",
       "</table>\n",
       "</div>"
      ],
      "text/plain": [
       "              Region  latitude  longitude\n",
       "0     Andhra Pradesh   15.9129    79.7400\n",
       "1  Arunachal Pradesh   28.2180    94.7278\n",
       "2              Assam   26.2006    92.9376\n",
       "3              Bihar   25.0961    85.3131\n",
       "4       Chhattisgarh   21.2787    81.8661"
      ]
     },
     "metadata": {},
     "output_type": "display_data"
    }
   ],
   "source": [
    "# Load the unemployment data\n",
    "unemployment_df = pd.read_csv(\"Unemployment in India.csv\")\n",
    "\n",
    "# Load the state coordinates data\n",
    "coordinates_df = pd.read_csv('state_coordinates.csv')\n",
    "\n",
    "# Display the first few rows of each DataFrame\n",
    "print('Unemployment Data:')\n",
    "display(unemployment_df.head())\n",
    "\n",
    "print(\"\\nState Coordinates Data:\")\n",
    "display(coordinates_df.head())"
   ]
  },
  {
   "cell_type": "code",
   "execution_count": 30,
   "metadata": {},
   "outputs": [
    {
     "name": "stdout",
     "output_type": "stream",
     "text": [
      "<class 'pandas.core.frame.DataFrame'>\n",
      "RangeIndex: 768 entries, 0 to 767\n",
      "Data columns (total 7 columns):\n",
      " #   Column                                   Non-Null Count  Dtype  \n",
      "---  ------                                   --------------  -----  \n",
      " 0   Region                                   740 non-null    object \n",
      " 1   Date                                     740 non-null    object \n",
      " 2   Frequency                                740 non-null    object \n",
      " 3   Estimated Unemployment Rate (%)          740 non-null    float64\n",
      " 4   Estimated Employed                       740 non-null    float64\n",
      " 5   Estimated Labour Participation Rate (%)  740 non-null    float64\n",
      " 6   Area                                     740 non-null    object \n",
      "dtypes: float64(3), object(4)\n",
      "memory usage: 42.1+ KB\n",
      "None\n"
     ]
    }
   ],
   "source": [
    "# Clean column names\n",
    "unemployment_df.columns = unemployment_df.columns.str.strip()\n",
    "\n",
    "# Check basic info\n",
    "print(unemployment_df.info())"
   ]
  },
  {
   "cell_type": "code",
   "execution_count": 31,
   "metadata": {},
   "outputs": [],
   "source": [
    "# Convert Date to datetime\n",
    "unemployment_df['Date'] = pd.to_datetime(unemployment_df['Date'])\n",
    "\n",
    "# Extract Year and Month\n",
    "unemployment_df['Year'] = unemployment_df['Date'].dt.year\n",
    "unemployment_df['Month'] = unemployment_df['Date'].dt.month"
   ]
  },
  {
   "cell_type": "code",
   "execution_count": 32,
   "metadata": {},
   "outputs": [],
   "source": [
    "# Drop rows with any missing values\n",
    "unemployment_df.dropna(inplace=True)\n",
    "\n",
    "# Filter only \"Combined\" area\n",
    "combined_df = unemployment_df[unemployment_df['Area'].str.lower() == 'combined']\n"
   ]
  },
  {
   "cell_type": "markdown",
   "metadata": {},
   "source": [
    "# Estimated Unemployment rate(%)\n"
   ]
  },
  {
   "cell_type": "code",
   "execution_count": 33,
   "metadata": {},
   "outputs": [
    {
     "name": "stdout",
     "output_type": "stream",
     "text": [
      "Summary of Estimated Unemployment Rate (%):\n",
      "count    0.0\n",
      "mean     NaN\n",
      "std      NaN\n",
      "min      NaN\n",
      "25%      NaN\n",
      "50%      NaN\n",
      "75%      NaN\n",
      "max      NaN\n",
      "Name: Estimated Unemployment Rate (%), dtype: float64\n"
     ]
    }
   ],
   "source": [
    "# Summary Statistics\n",
    "print(\"Summary of Estimated Unemployment Rate (%):\")\n",
    "print(combined_df['Estimated Unemployment Rate (%)'].describe())\n"
   ]
  },
  {
   "cell_type": "code",
   "execution_count": 34,
   "metadata": {},
   "outputs": [
    {
     "data": {
      "text/plain": [
       "array(['Rural', 'Urban'], dtype=object)"
      ]
     },
     "execution_count": 34,
     "metadata": {},
     "output_type": "execute_result"
    }
   ],
   "source": [
    "unemployment_df['Area'].unique()\n"
   ]
  },
  {
   "cell_type": "code",
   "execution_count": 35,
   "metadata": {},
   "outputs": [
    {
     "name": "stdout",
     "output_type": "stream",
     "text": [
      "\n",
      " Top 10 Regions by Avg Unemployment Rate (%):\n",
      "Region\n",
      "Tripura             28.350357\n",
      "Haryana             26.283214\n",
      "Jharkhand           20.585000\n",
      "Bihar               18.918214\n",
      "Himachal Pradesh    18.540357\n",
      "Delhi               16.495357\n",
      "Jammu & Kashmir     16.188571\n",
      "Chandigarh          15.991667\n",
      "Rajasthan           14.058214\n",
      "Uttar Pradesh       12.551429\n",
      "Name: Estimated Unemployment Rate (%), dtype: float64\n",
      "\n",
      " Bottom 10 Regions by Avg Unemployment Rate (%):\n",
      "Region\n",
      "Maharashtra       7.557500\n",
      "Andhra Pradesh    7.477143\n",
      "Madhya Pradesh    7.406429\n",
      "Sikkim            7.249412\n",
      "Karnataka         6.676071\n",
      "Gujarat           6.663929\n",
      "Uttarakhand       6.582963\n",
      "Assam             6.428077\n",
      "Odisha            5.657857\n",
      "Meghalaya         4.798889\n",
      "Name: Estimated Unemployment Rate (%), dtype: float64\n"
     ]
    }
   ],
   "source": [
    "# Region-wise average unemployment (Rural + Urban combined)\n",
    "region_avg = unemployment_df.groupby('Region')['Estimated Unemployment Rate (%)'].mean().sort_values(ascending=False)\n",
    "\n",
    "print(\"\\n Top 10 Regions by Avg Unemployment Rate (%):\")\n",
    "print(region_avg.head(10))\n",
    "\n",
    "print(\"\\n Bottom 10 Regions by Avg Unemployment Rate (%):\")\n",
    "print(region_avg.tail(10))\n"
   ]
  },
  {
   "cell_type": "code",
   "execution_count": 36,
   "metadata": {},
   "outputs": [
    {
     "data": {
      "image/png": "[encoded data removed]",
      "text/plain": [
       "<Figure size 1200x800 with 1 Axes>"
      ]
     },
     "metadata": {},
     "output_type": "display_data"
    }
   ],
   "source": [
    "plt.figure(figsize=(12,8))\n",
    "region_avg.plot(kind='barh', color='orchid')\n",
    "plt.title(\"Average Estimated Unemployment Rate (%) by Region (Rural + Urban)\")\n",
    "plt.xlabel(\"Unemployment Rate (%)\")\n",
    "plt.ylabel(\"Region\")\n",
    "plt.gca().invert_yaxis()\n",
    "plt.tight_layout()\n",
    "plt.show()\n"
   ]
  },
  {
   "cell_type": "markdown",
   "metadata": {},
   "source": [
    "# Trend over time (T2)"
   ]
  },
  {
   "cell_type": "code",
   "execution_count": 37,
   "metadata": {},
   "outputs": [],
   "source": [
    "# Remove unnecessary spaces in column names\n",
    "unemployment_df.columns = unemployment_df.columns.str.strip()\n",
    "unemployment_df['Region'] = unemployment_df['Region'].str.strip()\n",
    "\n",
    "# Convert Date to datetime\n",
    "unemployment_df['Date'] = pd.to_datetime(unemployment_df['Date'])\n",
    "\n",
    "# Drop rows with missing values\n",
    "unemployment_df.dropna(inplace=True)\n",
    "\n",
    "# Create Year & Month columns\n",
    "unemployment_df['Year'] = unemployment_df['Date'].dt.year\n",
    "unemployment_df['Month'] = unemployment_df['Date'].dt.month\n"
   ]
  },
  {
   "cell_type": "code",
   "execution_count": 38,
   "metadata": {},
   "outputs": [
    {
     "name": "stdout",
     "output_type": "stream",
     "text": [
      "Unemployment Rate Summary:\n",
      "\n",
      "count    740.000000\n",
      "mean      11.787946\n",
      "std       10.721298\n",
      "min        0.000000\n",
      "25%        4.657500\n",
      "50%        8.350000\n",
      "75%       15.887500\n",
      "max       76.740000\n",
      "Name: Estimated Unemployment Rate (%), dtype: float64\n"
     ]
    }
   ],
   "source": [
    "# Summary of Unemployment Rate\n",
    "print(\"Unemployment Rate Summary:\\n\")\n",
    "print(unemployment_df['Estimated Unemployment Rate (%)'].describe())\n"
   ]
  },
  {
   "cell_type": "code",
   "execution_count": 39,
   "metadata": {},
   "outputs": [
    {
     "name": "stdout",
     "output_type": "stream",
     "text": [
      "\n",
      "Top 5 Regions with Highest Avg Unemployment:\n",
      "Region\n",
      "Tripura             28.350357\n",
      "Haryana             26.283214\n",
      "Jharkhand           20.585000\n",
      "Bihar               18.918214\n",
      "Himachal Pradesh    18.540357\n",
      "Name: Estimated Unemployment Rate (%), dtype: float64\n",
      "\n",
      "Bottom 5 Regions with Lowest Avg Unemployment:\n",
      "Region\n",
      "Gujarat        6.663929\n",
      "Uttarakhand    6.582963\n",
      "Assam          6.428077\n",
      "Odisha         5.657857\n",
      "Meghalaya      4.798889\n",
      "Name: Estimated Unemployment Rate (%), dtype: float64\n"
     ]
    }
   ],
   "source": [
    "# Region-wise average unemployment\n",
    "region_avg = unemployment_df.groupby('Region')['Estimated Unemployment Rate (%)'].mean().sort_values(ascending=False)\n",
    "\n",
    "print(\"\\nTop 5 Regions with Highest Avg Unemployment:\")\n",
    "print(region_avg.head(5))\n",
    "\n",
    "print(\"\\nBottom 5 Regions with Lowest Avg Unemployment:\")\n",
    "print(region_avg.tail(5))\n"
   ]
  },
  {
   "cell_type": "code",
   "execution_count": 40,
   "metadata": {},
   "outputs": [
    {
     "data": {
      "image/png": "[encoded data removed]",
      "text/plain": [
       "<Figure size 1400x600 with 1 Axes>"
      ]
     },
     "metadata": {},
     "output_type": "display_data"
    }
   ],
   "source": [
    "plt.figure(figsize=(14,6))\n",
    "sns.lineplot(data=unemployment_df, x='Date', y='Estimated Unemployment Rate (%)')\n",
    "plt.title(\"National Unemployment Rate Trend Over Time\")\n",
    "plt.xlabel(\"Date\")\n",
    "plt.ylabel(\"Unemployment Rate (%)\")\n",
    "plt.xticks(rotation=45)\n",
    "plt.tight_layout()\n",
    "plt.show()\n"
   ]
  },
  {
   "cell_type": "markdown",
   "metadata": {},
   "source": [
    "# Impact of COVID-19 on Unemployment"
   ]
  },
  {
   "cell_type": "code",
   "execution_count": 41,
   "metadata": {},
   "outputs": [
    {
     "name": "stdout",
     "output_type": "stream",
     "text": [
      "Year\n",
      "2019    430\n",
      "2020    310\n",
      "Name: count, dtype: int64\n"
     ]
    }
   ],
   "source": [
    "#Filter data for the years 2019, 2020\n",
    "covid_df = unemployment_df[unemployment_df['Year'].isin([2019, 2020, 2021])]\n",
    "\n",
    "#Checks counts per year\n",
    "print(covid_df['Year'].value_counts())"
   ]
  },
  {
   "cell_type": "code",
   "execution_count": 42,
   "metadata": {},
   "outputs": [
    {
     "data": {
      "image/png": "[encoded data removed]",
      "text/plain": [
       "<Figure size 1400x600 with 1 Axes>"
      ]
     },
     "metadata": {},
     "output_type": "display_data"
    }
   ],
   "source": [
    "plt.figure(figsize=(14,6))\n",
    "sns.lineplot(data=covid_df, x='Date', y='Estimated Unemployment Rate (%)', hue='Year', palette='tab10')\n",
    "plt.title(\"Covid-19 Impact on Unemployment (2019–2020)\")\n",
    "plt.xlabel(\"Date\")\n",
    "plt.ylabel(\"Unemployment Rate (%)\")\n",
    "plt.xticks(rotation=45)\n",
    "plt.tight_layout()\n",
    "plt.show()\n"
   ]
  },
  {
   "cell_type": "code",
   "execution_count": 43,
   "metadata": {},
   "outputs": [
    {
     "data": {
      "image/png": "[encoded data removed]",
      "text/plain": [
       "<Figure size 1000x600 with 1 Axes>"
      ]
     },
     "metadata": {},
     "output_type": "display_data"
    }
   ],
   "source": [
    "plt.figure(figsize=(10,6))\n",
    "sns.boxplot(data=covid_df, x='Year', y='Estimated Unemployment Rate (%)', palette='Set2')\n",
    "plt.title(\"Unemployment Rate Distribution by Year (Covid Impact)\")\n",
    "plt.xlabel(\"Year\")\n",
    "plt.ylabel(\"Unemployment Rate (%)\")\n",
    "plt.show()\n"
   ]
  },
  {
   "cell_type": "code",
   "execution_count": 44,
   "metadata": {},
   "outputs": [
    {
     "data": {
      "image/png": "[encoded data removed]",
      "text/plain": [
       "<Figure size 1400x800 with 1 Axes>"
      ]
     },
     "metadata": {},
     "output_type": "display_data"
    }
   ],
   "source": [
    "region_year_avg = covid_df.groupby(['Region', 'Year'])['Estimated Unemployment Rate (%)'].mean().reset_index()\n",
    "\n",
    "plt.figure(figsize=(14,8))\n",
    "sns.barplot(data=region_year_avg, x='Estimated Unemployment Rate (%)', y='Region', hue='Year')\n",
    "plt.title(\"Region-wise Unemployment Comparison (2019–2020)\")\n",
    "plt.xlabel(\"Avg Unemployment Rate (%)\")\n",
    "plt.ylabel(\"Region\")\n",
    "plt.tight_layout()\n",
    "plt.show()\n"
   ]
  },
  {
   "cell_type": "markdown",
   "metadata": {},
   "source": [
    "# Seasonal Trends in Unemployment(T4)"
   ]
  },
  {
   "cell_type": "code",
   "execution_count": 45,
   "metadata": {},
   "outputs": [
    {
     "data": {
      "text/html": [
       "<div>\n",
       "<style scoped>\n",
       "    .dataframe tbody tr th:only-of-type {\n",
       "        vertical-align: middle;\n",
       "    }\n",
       "\n",
       "    .dataframe tbody tr th {\n",
       "        vertical-align: top;\n",
       "    }\n",
       "\n",
       "    .dataframe thead th {\n",
       "        text-align: right;\n",
       "    }\n",
       "</style>\n",
       "<table border=\"1\" class=\"dataframe\">\n",
       "  <thead>\n",
       "    <tr style=\"text-align: right;\">\n",
       "      <th></th>\n",
       "      <th>Month</th>\n",
       "      <th>Estimated Unemployment Rate (%)</th>\n",
       "    </tr>\n",
       "  </thead>\n",
       "  <tbody>\n",
       "    <tr>\n",
       "      <th>0</th>\n",
       "      <td>1</td>\n",
       "      <td>9.950755</td>\n",
       "    </tr>\n",
       "    <tr>\n",
       "      <th>1</th>\n",
       "      <td>2</td>\n",
       "      <td>9.964717</td>\n",
       "    </tr>\n",
       "    <tr>\n",
       "      <th>2</th>\n",
       "      <td>3</td>\n",
       "      <td>10.700577</td>\n",
       "    </tr>\n",
       "    <tr>\n",
       "      <th>3</th>\n",
       "      <td>4</td>\n",
       "      <td>23.641569</td>\n",
       "    </tr>\n",
       "    <tr>\n",
       "      <th>4</th>\n",
       "      <td>5</td>\n",
       "      <td>16.646190</td>\n",
       "    </tr>\n",
       "    <tr>\n",
       "      <th>5</th>\n",
       "      <td>6</td>\n",
       "      <td>10.553462</td>\n",
       "    </tr>\n",
       "    <tr>\n",
       "      <th>6</th>\n",
       "      <td>7</td>\n",
       "      <td>9.033889</td>\n",
       "    </tr>\n",
       "    <tr>\n",
       "      <th>7</th>\n",
       "      <td>8</td>\n",
       "      <td>9.637925</td>\n",
       "    </tr>\n",
       "    <tr>\n",
       "      <th>8</th>\n",
       "      <td>9</td>\n",
       "      <td>9.051731</td>\n",
       "    </tr>\n",
       "    <tr>\n",
       "      <th>9</th>\n",
       "      <td>10</td>\n",
       "      <td>9.900909</td>\n",
       "    </tr>\n",
       "    <tr>\n",
       "      <th>10</th>\n",
       "      <td>11</td>\n",
       "      <td>9.868364</td>\n",
       "    </tr>\n",
       "    <tr>\n",
       "      <th>11</th>\n",
       "      <td>12</td>\n",
       "      <td>9.497358</td>\n",
       "    </tr>\n",
       "  </tbody>\n",
       "</table>\n",
       "</div>"
      ],
      "text/plain": [
       "    Month  Estimated Unemployment Rate (%)\n",
       "0       1                         9.950755\n",
       "1       2                         9.964717\n",
       "2       3                        10.700577\n",
       "3       4                        23.641569\n",
       "4       5                        16.646190\n",
       "5       6                        10.553462\n",
       "6       7                         9.033889\n",
       "7       8                         9.637925\n",
       "8       9                         9.051731\n",
       "9      10                         9.900909\n",
       "10     11                         9.868364\n",
       "11     12                         9.497358"
      ]
     },
     "execution_count": 45,
     "metadata": {},
     "output_type": "execute_result"
    }
   ],
   "source": [
    "# Month-wise average unemployment (2019 and 2020 combined)\n",
    "monthly_avg = unemployment_df.groupby('Month')['Estimated Unemployment Rate (%)'].mean().reset_index()\n",
    "monthly_avg"
   ]
  },
  {
   "cell_type": "code",
   "execution_count": 46,
   "metadata": {},
   "outputs": [
    {
     "data": {
      "image/png": "[encoded data removed]",
      "text/plain": [
       "<Figure size 1200x600 with 1 Axes>"
      ]
     },
     "metadata": {},
     "output_type": "display_data"
    }
   ],
   "source": [
    "# Month-wise average unemployment (2019 and 2020 combined)\n",
    "monthly_avg = unemployment_df.groupby('Month')['Estimated Unemployment Rate (%)'].mean().reset_index()\n",
    "monthly_avg\n",
    "\n",
    "plt.figure(figsize=(12,6))\n",
    "sns.lineplot(data=monthly_avg, x='Month', y='Estimated Unemployment Rate (%)', marker='o', color='orange')\n",
    "plt.title(\"Average Unemployment Rate by Month (2019–2020)\")\n",
    "plt.xlabel(\"Month\")\n",
    "plt.ylabel(\"Average Unemployment Rate (%)\")\n",
    "plt.xticks(ticks=range(1,13), labels=[\n",
    "    'Jan','Feb','Mar','Apr','May','Jun',\n",
    "    'Jul','Aug','Sep','Oct','Nov','Dec'\n",
    "])\n",
    "plt.grid(True)\n",
    "plt.tight_layout()\n",
    "plt.show()\n",
    "\n"
   ]
  },
  {
   "cell_type": "code",
   "execution_count": 47,
   "metadata": {},
   "outputs": [
    {
     "data": {
      "image/png": "[encoded data removed]",
      "text/plain": [
       "<Figure size 1200x500 with 2 Axes>"
      ]
     },
     "metadata": {},
     "output_type": "display_data"
    }
   ],
   "source": [
    "# Pivot table for heatmap\n",
    "heatmap_data = unemployment_df.pivot_table(values='Estimated Unemployment Rate (%)', index='Year', columns='Month', aggfunc='mean')\n",
    "\n",
    "# Plot heatmap\n",
    "plt.figure(figsize=(12,5))\n",
    "sns.heatmap(heatmap_data, cmap=\"YlOrRd\", annot=True, fmt=\".1f\")\n",
    "plt.title(\"Heatmap of Avg Unemployment Rate (Year vs Month)\")\n",
    "plt.xlabel(\"Month\")\n",
    "plt.ylabel(\"Year\")\n",
    "plt.show()\n"
   ]
  },
  {
   "cell_type": "markdown",
   "metadata": {},
   "source": [
    "# Mapping Insights\n"
   ]
  },
  {
   "cell_type": "code",
   "execution_count": 48,
   "metadata": {},
   "outputs": [
    {
     "data": {
      "text/html": [
       "<div>\n",
       "<style scoped>\n",
       "    .dataframe tbody tr th:only-of-type {\n",
       "        vertical-align: middle;\n",
       "    }\n",
       "\n",
       "    .dataframe tbody tr th {\n",
       "        vertical-align: top;\n",
       "    }\n",
       "\n",
       "    .dataframe thead th {\n",
       "        text-align: right;\n",
       "    }\n",
       "</style>\n",
       "<table border=\"1\" class=\"dataframe\">\n",
       "  <thead>\n",
       "    <tr style=\"text-align: right;\">\n",
       "      <th></th>\n",
       "      <th>Region</th>\n",
       "      <th>Estimated Unemployment Rate (%)</th>\n",
       "      <th>latitude</th>\n",
       "      <th>longitude</th>\n",
       "    </tr>\n",
       "  </thead>\n",
       "  <tbody>\n",
       "    <tr>\n",
       "      <th>0</th>\n",
       "      <td>Andhra Pradesh</td>\n",
       "      <td>7.477143</td>\n",
       "      <td>15.9129</td>\n",
       "      <td>79.7400</td>\n",
       "    </tr>\n",
       "    <tr>\n",
       "      <th>1</th>\n",
       "      <td>Assam</td>\n",
       "      <td>6.428077</td>\n",
       "      <td>26.2006</td>\n",
       "      <td>92.9376</td>\n",
       "    </tr>\n",
       "    <tr>\n",
       "      <th>2</th>\n",
       "      <td>Bihar</td>\n",
       "      <td>18.918214</td>\n",
       "      <td>25.0961</td>\n",
       "      <td>85.3131</td>\n",
       "    </tr>\n",
       "    <tr>\n",
       "      <th>3</th>\n",
       "      <td>Chandigarh</td>\n",
       "      <td>15.991667</td>\n",
       "      <td>30.7333</td>\n",
       "      <td>76.7794</td>\n",
       "    </tr>\n",
       "    <tr>\n",
       "      <th>4</th>\n",
       "      <td>Chhattisgarh</td>\n",
       "      <td>9.240357</td>\n",
       "      <td>21.2787</td>\n",
       "      <td>81.8661</td>\n",
       "    </tr>\n",
       "  </tbody>\n",
       "</table>\n",
       "</div>"
      ],
      "text/plain": [
       "           Region  Estimated Unemployment Rate (%)  latitude  longitude\n",
       "0  Andhra Pradesh                         7.477143   15.9129    79.7400\n",
       "1           Assam                         6.428077   26.2006    92.9376\n",
       "2           Bihar                        18.918214   25.0961    85.3131\n",
       "3      Chandigarh                        15.991667   30.7333    76.7794\n",
       "4    Chhattisgarh                         9.240357   21.2787    81.8661"
      ]
     },
     "execution_count": 48,
     "metadata": {},
     "output_type": "execute_result"
    }
   ],
   "source": [
    "# Merge dataframes for the mapping\n",
    "\n",
    "# Region names have no extra spaces\n",
    "unemployment_df['Region'] = unemployment_df['Region'].str.strip()\n",
    "coordinates_df['Region'] = coordinates_df['Region'].str.strip()\n",
    "\n",
    "# Group original data by Region\n",
    "region_avg_unemployment = unemployment_df.groupby('Region')['Estimated Unemployment Rate (%)'].mean().reset_index()\n",
    "\n",
    "# Merge with coordinates\n",
    "map_df = pd.merge(region_avg_unemployment, coordinates_df, on='Region', how='left')\n",
    "map_df.head()\n"
   ]
  },
  {
   "cell_type": "code",
   "execution_count": 66,
   "metadata": {},
   "outputs": [
    {
     "data": {
      "application/vnd.plotly.v1+json": {
       "config": {
        "plotlyServerURL": "https://plot.ly"
       },
       "data": [
        {
         "geo": "geo",
         "hovertemplate": "<b>%{hovertext}</b><br><br>Estimated Unemployment Rate (%)=%{marker.color}<br>Region=%{text}<br>latitude=%{lat}<br>longitude=%{lon}<extra></extra>",
         "hovertext": [
          "Andhra Pradesh",
          "Assam",
          "Bihar",
          "Chandigarh",
          "Chhattisgarh",
          "Delhi",
          "Goa",
          "Gujarat",
          "Haryana",
          "Himachal Pradesh",
          "Jammu & Kashmir",
          "Jharkhand",
          "Karnataka",
          "Kerala",
          "Madhya Pradesh",
          "Maharashtra",
          "Meghalaya",
          "Odisha",
          "Puducherry",
          "Punjab",
          "Rajasthan",
          "Sikkim",
          "Tamil Nadu",
          "Telangana",
          "Tripura",
          "Uttar Pradesh",
          "Uttarakhand",
          "West Bengal"
         ],
         "lat": {
          "bdata": "bAn5oGfTL0Dek4eFWjM6QEYldQKaGDlAJCh+jLm7PkAsZRniWEc1QBUdyeU/tDxAt2J/2T2ZLkDlYaHWNE82QDsBTYQNDz1A7Z48LNQaP0AAAAAAAAD4f+oENBE2nDdApgpGJXWiLkD6fmq8dLMlQCntDb4w+TZAqvHSTWLAM0BkO99PjXc5QGuad5yi8zRAAAAAAAAA+H/ZPXlYqCU/QBKlvcEXBjtAnMQgsHKIO0CppE5AE0EmQAYSFD/GHDJAqRPQRNjwN0DwhclUwdg6QHBfB84ZET5AW7G/7J78NkA=",
          "dtype": "f8"
         },
         "legendgroup": "",
         "lon": {
          "bdata": "j8L1KFzvU0CyLm6jATxXQCsYldQJVFVAJ6CJsOExU0AzxLEubndUQMP1KFyPRlNADi2yne+HUkDGbTSAtwhSQGgibHh6BVNAF0hQ/BhLU0AAAAAAAAD4f6CJsOHpUVVAUiegibDtUkCFfNCzWRFTQIMvTKYKqlNAUiegibDtUkDl8h/Sb9dWQPyp8dJNRlVAAAAAAAAA+H9LWYY41tVSQBlz1xLyjVJAuECC4scgVkCDL0ymCqpTQAU0ETY8wVNAEHo2qz7/VkBq3nGKjjxUQAU0ETY8wVNAH4XrUbj2VUA=",
          "dtype": "f8"
         },
         "marker": {
          "color": {
           "bdata": "VssbI5joHUCZJgPMWbYZQOXcZxcQ6zJAvLu7u7v7L0Dl3GcXEHsiQFNpyLnPfjBALPnFkl+MIkCxqTTk3KcaQCHnPruASDpAP7uA2FSKMkCerJY3RjAwQPYoXI/ClTRAq+WNEUy0GkDDptKQcz8kQGnIuc8uoB1AexSuR+E6HkCHqcvtDzITQLMLiE2loRZAr0fhehRuJEDLGyOY6A8oQBCbSkPOHSxA/5gyzGX/HEB/J6vljZEiQAbEptKQ8x5Azn12AbFZPEA/u4DYVBopQBzSMj70VBpAlzdGMNE/IEA=",
           "dtype": "f8"
          },
          "coloraxis": "coloraxis",
          "size": {
           "bdata": "VssbI5joHUCZJgPMWbYZQOXcZxcQ6zJAvLu7u7v7L0Dl3GcXEHsiQFNpyLnPfjBALPnFkl+MIkCxqTTk3KcaQCHnPruASDpAP7uA2FSKMkCerJY3RjAwQPYoXI/ClTRAq+WNEUy0GkDDptKQcz8kQGnIuc8uoB1AexSuR+E6HkCHqcvtDzITQLMLiE2loRZAr0fhehRuJEDLGyOY6A8oQBCbSkPOHSxA/5gyzGX/HEB/J6vljZEiQAbEptKQ8x5Azn12AbFZPEA/u4DYVBopQBzSMj70VBpAlzdGMNE/IEA=",
           "dtype": "f8"
          },
          "sizemode": "area",
          "sizeref": 0.045360571428571424,
          "symbol": "circle"
         },
         "mode": "markers+text",
         "name": "",
         "showlegend": false,
         "text": [
          "Andhra Pradesh",
          "Assam",
          "Bihar",
          "Chandigarh",
          "Chhattisgarh",
          "Delhi",
          "Goa",
          "Gujarat",
          "Haryana",
          "Himachal Pradesh",
          "Jammu & Kashmir",
          "Jharkhand",
          "Karnataka",
          "Kerala",
          "Madhya Pradesh",
          "Maharashtra",
          "Meghalaya",
          "Odisha",
          "Puducherry",
          "Punjab",
          "Rajasthan",
          "Sikkim",
          "Tamil Nadu",
          "Telangana",
          "Tripura",
          "Uttar Pradesh",
          "Uttarakhand",
          "West Bengal"
         ],
         "type": "scattergeo"
        }
       ],
       "layout": {
        "coloraxis": {
         "colorbar": {
          "title": {
           "text": "Estimated Unemployment Rate (%)"
          }
         },
         "colorscale": [
          [
           0,
           "rgb(255,247,236)"
          ],
          [
           0.125,
           "rgb(254,232,200)"
          ],
          [
           0.25,
           "rgb(253,212,158)"
          ],
          [
           0.375,
           "rgb(253,187,132)"
          ],
          [
           0.5,
           "rgb(252,141,89)"
          ],
          [
           0.625,
           "rgb(239,101,72)"
          ],
          [
           0.75,
           "rgb(215,48,31)"
          ],
          [
           0.875,
           "rgb(179,0,0)"
          ],
          [
           1,
           "rgb(127,0,0)"
          ]
         ]
        },
        "geo": {
         "center": {},
         "domain": {
          "x": [
           0,
           1
          ],
          "y": [
           0,
           1
          ]
         },
         "fitbounds": "locations",
         "projection": {
          "type": "natural earth"
         },
         "scope": "asia",
         "visible": true
        },
        "legend": {
         "itemsizing": "constant",
         "tracegroupgap": 0
        },
        "margin": {
         "b": 0,
         "l": 0,
         "r": 0,
         "t": 50
        },
        "template": {
         "data": {
          "bar": [
           {
            "error_x": {
             "color": "#2a3f5f"
            },
            "error_y": {
             "color": "#2a3f5f"
            },
            "marker": {
             "line": {
              "color": "#E5ECF6",
              "width": 0.5
             },
             "pattern": {
              "fillmode": "overlay",
              "size": 10,
              "solidity": 0.2
             }
            },
            "type": "bar"
           }
          ],
          "barpolar": [
           {
            "marker": {
             "line": {
              "color": "#E5ECF6",
              "width": 0.5
             },
             "pattern": {
              "fillmode": "overlay",
              "size": 10,
              "solidity": 0.2
             }
            },
            "type": "barpolar"
           }
          ],
          "carpet": [
           {
            "aaxis": {
             "endlinecolor": "#2a3f5f",
             "gridcolor": "white",
             "linecolor": "white",
             "minorgridcolor": "white",
             "startlinecolor": "#2a3f5f"
            },
            "baxis": {
             "endlinecolor": "#2a3f5f",
             "gridcolor": "white",
             "linecolor": "white",
             "minorgridcolor": "white",
             "startlinecolor": "#2a3f5f"
            },
            "type": "carpet"
           }
          ],
          "choropleth": [
           {
            "colorbar": {
             "outlinewidth": 0,
             "ticks": ""
            },
            "type": "choropleth"
           }
          ],
          "contour": [
           {
            "colorbar": {
             "outlinewidth": 0,
             "ticks": ""
            },
            "colorscale": [
             [
              0,
              "#0d0887"
             ],
             [
              0.1111111111111111,
              "#46039f"
             ],
             [
              0.2222222222222222,
              "#7201a8"
             ],
             [
              0.3333333333333333,
              "#9c179e"
             ],
             [
              0.4444444444444444,
              "#bd3786"
             ],
             [
              0.5555555555555556,
              "#d8576b"
             ],
             [
              0.6666666666666666,
              "#ed7953"
             ],
             [
              0.7777777777777778,
              "#fb9f3a"
             ],
             [
              0.8888888888888888,
              "#fdca26"
             ],
             [
              1,
              "#f0f921"
             ]
            ],
            "type": "contour"
           }
          ],
          "contourcarpet": [
           {
            "colorbar": {
             "outlinewidth": 0,
             "ticks": ""
            },
            "type": "contourcarpet"
           }
          ],
          "heatmap": [
           {
            "colorbar": {
             "outlinewidth": 0,
             "ticks": ""
            },
            "colorscale": [
             [
              0,
              "#0d0887"
             ],
             [
              0.1111111111111111,
              "#46039f"
             ],
             [
              0.2222222222222222,
              "#7201a8"
             ],
             [
              0.3333333333333333,
              "#9c179e"
             ],
             [
              0.4444444444444444,
              "#bd3786"
             ],
             [
              0.5555555555555556,
              "#d8576b"
             ],
             [
              0.6666666666666666,
              "#ed7953"
             ],
             [
              0.7777777777777778,
              "#fb9f3a"
             ],
             [
              0.8888888888888888,
              "#fdca26"
             ],
             [
              1,
              "#f0f921"
             ]
            ],
            "type": "heatmap"
           }
          ],
          "histogram": [
           {
            "marker": {
             "pattern": {
              "fillmode": "overlay",
              "size": 10,
              "solidity": 0.2
             }
            },
            "type": "histogram"
           }
          ],
          "histogram2d": [
           {
            "colorbar": {
             "outlinewidth": 0,
             "ticks": ""
            },
            "colorscale": [
             [
              0,
              "#0d0887"
             ],
             [
              0.1111111111111111,
              "#46039f"
             ],
             [
              0.2222222222222222,
              "#7201a8"
             ],
             [
              0.3333333333333333,
              "#9c179e"
             ],
             [
              0.4444444444444444,
              "#bd3786"
             ],
             [
              0.5555555555555556,
              "#d8576b"
             ],
             [
              0.6666666666666666,
              "#ed7953"
             ],
             [
              0.7777777777777778,
              "#fb9f3a"
             ],
             [
              0.8888888888888888,
              "#fdca26"
             ],
             [
              1,
              "#f0f921"
             ]
            ],
            "type": "histogram2d"
           }
          ],
          "histogram2dcontour": [
           {
            "colorbar": {
             "outlinewidth": 0,
             "ticks": ""
            },
            "colorscale": [
             [
              0,
              "#0d0887"
             ],
             [
              0.1111111111111111,
              "#46039f"
             ],
             [
              0.2222222222222222,
              "#7201a8"
             ],
             [
              0.3333333333333333,
              "#9c179e"
             ],
             [
              0.4444444444444444,
              "#bd3786"
             ],
             [
              0.5555555555555556,
              "#d8576b"
             ],
             [
              0.6666666666666666,
              "#ed7953"
             ],
             [
              0.7777777777777778,
              "#fb9f3a"
             ],
             [
              0.8888888888888888,
              "#fdca26"
             ],
             [
              1,
              "#f0f921"
             ]
            ],
            "type": "histogram2dcontour"
           }
          ],
          "mesh3d": [
           {
            "colorbar": {
             "outlinewidth": 0,
             "ticks": ""
            },
            "type": "mesh3d"
           }
          ],
          "parcoords": [
           {
            "line": {
             "colorbar": {
              "outlinewidth": 0,
              "ticks": ""
             }
            },
            "type": "parcoords"
           }
          ],
          "pie": [
           {
            "automargin": true,
            "type": "pie"
           }
          ],
          "scatter": [
           {
            "fillpattern": {
             "fillmode": "overlay",
             "size": 10,
             "solidity": 0.2
            },
            "type": "scatter"
           }
          ],
          "scatter3d": [
           {
            "line": {
             "colorbar": {
              "outlinewidth": 0,
              "ticks": ""
             }
            },
            "marker": {
             "colorbar": {
              "outlinewidth": 0,
              "ticks": ""
             }
            },
            "type": "scatter3d"
           }
          ],
          "scattercarpet": [
           {
            "marker": {
             "colorbar": {
              "outlinewidth": 0,
              "ticks": ""
             }
            },
            "type": "scattercarpet"
           }
          ],
          "scattergeo": [
           {
            "marker": {
             "colorbar": {
              "outlinewidth": 0,
              "ticks": ""
             }
            },
            "type": "scattergeo"
           }
          ],
          "scattergl": [
           {
            "marker": {
             "colorbar": {
              "outlinewidth": 0,
              "ticks": ""
             }
            },
            "type": "scattergl"
           }
          ],
          "scattermap": [
           {
            "marker": {
             "colorbar": {
              "outlinewidth": 0,
              "ticks": ""
             }
            },
            "type": "scattermap"
           }
          ],
          "scattermapbox": [
           {
            "marker": {
             "colorbar": {
              "outlinewidth": 0,
              "ticks": ""
             }
            },
            "type": "scattermapbox"
           }
          ],
          "scatterpolar": [
           {
            "marker": {
             "colorbar": {
              "outlinewidth": 0,
              "ticks": ""
             }
            },
            "type": "scatterpolar"
           }
          ],
          "scatterpolargl": [
           {
            "marker": {
             "colorbar": {
              "outlinewidth": 0,
              "ticks": ""
             }
            },
            "type": "scatterpolargl"
           }
          ],
          "scatterternary": [
           {
            "marker": {
             "colorbar": {
              "outlinewidth": 0,
              "ticks": ""
             }
            },
            "type": "scatterternary"
           }
          ],
          "surface": [
           {
            "colorbar": {
             "outlinewidth": 0,
             "ticks": ""
            },
            "colorscale": [
             [
              0,
              "#0d0887"
             ],
             [
              0.1111111111111111,
              "#46039f"
             ],
             [
              0.2222222222222222,
              "#7201a8"
             ],
             [
              0.3333333333333333,
              "#9c179e"
             ],
             [
              0.4444444444444444,
              "#bd3786"
             ],
             [
              0.5555555555555556,
              "#d8576b"
             ],
             [
              0.6666666666666666,
              "#ed7953"
             ],
             [
              0.7777777777777778,
              "#fb9f3a"
             ],
             [
              0.8888888888888888,
              "#fdca26"
             ],
             [
              1,
              "#f0f921"
             ]
            ],
            "type": "surface"
           }
          ],
          "table": [
           {
            "cells": {
             "fill": {
              "color": "#EBF0F8"
             },
             "line": {
              "color": "white"
             }
            },
            "header": {
             "fill": {
              "color": "#C8D4E3"
             },
             "line": {
              "color": "white"
             }
            },
            "type": "table"
           }
          ]
         },
         "layout": {
          "annotationdefaults": {
           "arrowcolor": "#2a3f5f",
           "arrowhead": 0,
           "arrowwidth": 1
          },
          "autotypenumbers": "strict",
          "coloraxis": {
           "colorbar": {
            "outlinewidth": 0,
            "ticks": ""
           }
          },
          "colorscale": {
           "diverging": [
            [
             0,
             "#8e0152"
            ],
            [
             0.1,
             "#c51b7d"
            ],
            [
             0.2,
             "#de77ae"
            ],
            [
             0.3,
             "#f1b6da"
            ],
            [
             0.4,
             "#fde0ef"
            ],
            [
             0.5,
             "#f7f7f7"
            ],
            [
             0.6,
             "#e6f5d0"
            ],
            [
             0.7,
             "#b8e186"
            ],
            [
             0.8,
             "#7fbc41"
            ],
            [
             0.9,
             "#4d9221"
            ],
            [
             1,
             "#276419"
            ]
           ],
           "sequential": [
            [
             0,
             "#0d0887"
            ],
            [
             0.1111111111111111,
             "#46039f"
            ],
            [
             0.2222222222222222,
             "#7201a8"
            ],
            [
             0.3333333333333333,
             "#9c179e"
            ],
            [
             0.4444444444444444,
             "#bd3786"
            ],
            [
             0.5555555555555556,
             "#d8576b"
            ],
            [
             0.6666666666666666,
             "#ed7953"
            ],
            [
             0.7777777777777778,
             "#fb9f3a"
            ],
            [
             0.8888888888888888,
             "#fdca26"
            ],
            [
             1,
             "#f0f921"
            ]
           ],
           "sequentialminus": [
            [
             0,
             "#0d0887"
            ],
            [
             0.1111111111111111,
             "#46039f"
            ],
            [
             0.2222222222222222,
             "#7201a8"
            ],
            [
             0.3333333333333333,
             "#9c179e"
            ],
            [
             0.4444444444444444,
             "#bd3786"
            ],
            [
             0.5555555555555556,
             "#d8576b"
            ],
            [
             0.6666666666666666,
             "#ed7953"
            ],
            [
             0.7777777777777778,
             "#fb9f3a"
            ],
            [
             0.8888888888888888,
             "#fdca26"
            ],
            [
             1,
             "#f0f921"
            ]
           ]
          },
          "colorway": [
           "#636efa",
           "#EF553B",
           "#00cc96",
           "#ab63fa",
           "#FFA15A",
           "#19d3f3",
           "#FF6692",
           "#B6E880",
           "#FF97FF",
           "#FECB52"
          ],
          "font": {
           "color": "#2a3f5f"
          },
          "geo": {
           "bgcolor": "white",
           "lakecolor": "white",
           "landcolor": "#E5ECF6",
           "showlakes": true,
           "showland": true,
           "subunitcolor": "white"
          },
          "hoverlabel": {
           "align": "left"
          },
          "hovermode": "closest",
          "mapbox": {
           "style": "light"
          },
          "paper_bgcolor": "white",
          "plot_bgcolor": "#E5ECF6",
          "polar": {
           "angularaxis": {
            "gridcolor": "white",
            "linecolor": "white",
            "ticks": ""
           },
           "bgcolor": "#E5ECF6",
           "radialaxis": {
            "gridcolor": "white",
            "linecolor": "white",
            "ticks": ""
           }
          },
          "scene": {
           "xaxis": {
            "backgroundcolor": "#E5ECF6",
            "gridcolor": "white",
            "gridwidth": 2,
            "linecolor": "white",
            "showbackground": true,
            "ticks": "",
            "zerolinecolor": "white"
           },
           "yaxis": {
            "backgroundcolor": "#E5ECF6",
            "gridcolor": "white",
            "gridwidth": 2,
            "linecolor": "white",
            "showbackground": true,
            "ticks": "",
            "zerolinecolor": "white"
           },
           "zaxis": {
            "backgroundcolor": "#E5ECF6",
            "gridcolor": "white",
            "gridwidth": 2,
            "linecolor": "white",
            "showbackground": true,
            "ticks": "",
            "zerolinecolor": "white"
           }
          },
          "shapedefaults": {
           "line": {
            "color": "#2a3f5f"
           }
          },
          "ternary": {
           "aaxis": {
            "gridcolor": "white",
            "linecolor": "white",
            "ticks": ""
           },
           "baxis": {
            "gridcolor": "white",
            "linecolor": "white",
            "ticks": ""
           },
           "bgcolor": "#E5ECF6",
           "caxis": {
            "gridcolor": "white",
            "linecolor": "white",
            "ticks": ""
           }
          },
          "title": {
           "x": 0.05
          },
          "xaxis": {
           "automargin": true,
           "gridcolor": "white",
           "linecolor": "white",
           "ticks": "",
           "title": {
            "standoff": 15
           },
           "zerolinecolor": "white",
           "zerolinewidth": 2
          },
          "yaxis": {
           "automargin": true,
           "gridcolor": "white",
           "linecolor": "white",
           "ticks": "",
           "title": {
            "standoff": 15
           },
           "zerolinecolor": "white",
           "zerolinewidth": 2
          }
         }
        },
        "title": {
         "text": "Average Unemployment Rate in Indian States (2019–2020)"
        }
       }
      }
     },
     "metadata": {},
     "output_type": "display_data"
    }
   ],
   "source": [
    "fig = px.scatter_geo(\n",
    "    map_df,\n",
    "    lat='latitude',\n",
    "    lon='longitude',\n",
    "    text='Region',\n",
    "    size='Estimated Unemployment Rate (%)',\n",
    "    color='Estimated Unemployment Rate (%)',\n",
    "    color_continuous_scale='OrRd',\n",
    "    projection='natural earth',\n",
    "    scope='asia',  # This is the key part\n",
    "    title='Average Unemployment Rate in Indian States (2019–2020)',\n",
    "    hover_name='Region',\n",
    "    size_max=25,\n",
    ")\n",
    "\n",
    "fig.update_geos(fitbounds=\"locations\", visible=True)\n",
    "fig.update_layout(margin={\"r\":0,\"t\":50,\"l\":0,\"b\":0})\n",
    "fig.show()\n"
   ]
  },
  {
   "cell_type": "code",
   "execution_count": 72,
   "metadata": {},
   "outputs": [
    {
     "data": {
      "application/vnd.plotly.v1+json": {
       "config": {
        "plotlyServerURL": "https://plot.ly"
       },
       "data": [
        {
         "geo": "geo",
         "hovertemplate": "<b>%{hovertext}</b><br><br>Date=2019-05-31 00:00:00<br>Estimated Unemployment Rate (%)=%{marker.color}<br>latitude=%{lat}<br>longitude=%{lon}<extra></extra>",
         "hovertext": [
          "Andhra Pradesh",
          "Assam",
          "Bihar",
          "Chandigarh",
          "Chhattisgarh",
          "Delhi",
          "Goa",
          "Gujarat",
          "Haryana",
          "Himachal Pradesh",
          "Jammu & Kashmir",
          "Jharkhand",
          "Karnataka",
          "Kerala",
          "Madhya Pradesh",
          "Maharashtra",
          "Meghalaya",
          "Odisha",
          "Puducherry",
          "Punjab",
          "Rajasthan",
          "Sikkim",
          "Tamil Nadu",
          "Telangana",
          "Tripura",
          "Uttar Pradesh",
          "Uttarakhand",
          "West Bengal"
         ],
         "lat": {
          "bdata": "bAn5oGfTL0Dek4eFWjM6QEYldQKaGDlAJCh+jLm7PkAsZRniWEc1QBUdyeU/tDxAt2J/2T2ZLkDlYaHWNE82QDsBTYQNDz1A7Z48LNQaP0AAAAAAAAD4f+oENBE2nDdApgpGJXWiLkD6fmq8dLMlQCntDb4w+TZAqvHSTWLAM0BkO99PjXc5QGuad5yi8zRAAAAAAAAA+H/ZPXlYqCU/QBKlvcEXBjtAnMQgsHKIO0CppE5AE0EmQAYSFD/GHDJAqRPQRNjwN0DwhclUwdg6QHBfB84ZET5AW7G/7J78NkA=",
          "dtype": "f8"
         },
         "legendgroup": "",
         "lon": {
          "bdata": "j8L1KFzvU0CyLm6jATxXQCsYldQJVFVAJ6CJsOExU0AzxLEubndUQMP1KFyPRlNADi2yne+HUkDGbTSAtwhSQGgibHh6BVNAF0hQ/BhLU0AAAAAAAAD4f6CJsOHpUVVAUiegibDtUkCFfNCzWRFTQIMvTKYKqlNAUiegibDtUkDl8h/Sb9dWQPyp8dJNRlVAAAAAAAAA+H9LWYY41tVSQBlz1xLyjVJAuECC4scgVkCDL0ymCqpTQAU0ETY8wVNAEHo2qz7/VkBq3nGKjjxUQAU0ETY8wVNAH4XrUbj2VUA=",
          "dtype": "f8"
         },
         "marker": {
          "color": {
           "bdata": "exSuR+F6E0BSuB6F61EYQOtRuB6FKy1AmpmZmZlZMkDXo3A9CpcjQB+F61G43ihApHA9CtejBkDhehSuR+ELQHsUrkfhmjNAkML1KFyPKEApXI/C9egxQNejcD0KVyhACtejcD0KGEB7FK5H4XoZQClcj8L1KA5AAAAAAACAE0AfhetRuB4XQHsUrkfhegxAAAAAAAAA5D8pXI/C9agmQGZmZmZmpiFAZmZmZmZmIEDC9Shcj8LtPwAAAAAAAP4/uB6F61H4P0ApXI/C9agoQJqZmZmZmRVACtejcD2KGkA=",
           "dtype": "f8"
          },
          "coloraxis": "coloraxis",
          "size": {
           "bdata": "exSuR+F6E0BSuB6F61EYQOtRuB6FKy1AmpmZmZlZMkDXo3A9CpcjQB+F61G43ihApHA9CtejBkDhehSuR+ELQHsUrkfhmjNAkML1KFyPKEApXI/C9egxQNejcD0KVyhACtejcD0KGEB7FK5H4XoZQClcj8L1KA5AAAAAAACAE0AfhetRuB4XQHsUrkfhegxAAAAAAAAA5D8pXI/C9agmQGZmZmZmpiFAZmZmZmZmIEDC9Shcj8LtPwAAAAAAAP4/uB6F61H4P0ApXI/C9agoQJqZmZmZmRVACtejcD2KGkA=",
           "dtype": "f8"
          },
          "sizemode": "area",
          "sizeref": 0.121,
          "symbol": "circle"
         },
         "mode": "markers",
         "name": "",
         "showlegend": false,
         "type": "scattergeo"
        }
       ],
       "frames": [
        {
         "data": [
          {
           "geo": "geo",
           "hovertemplate": "<b>%{hovertext}</b><br><br>Date=2019-05-31 00:00:00<br>Estimated Unemployment Rate (%)=%{marker.color}<br>latitude=%{lat}<br>longitude=%{lon}<extra></extra>",
           "hovertext": [
            "Andhra Pradesh",
            "Assam",
            "Bihar",
            "Chandigarh",
            "Chhattisgarh",
            "Delhi",
            "Goa",
            "Gujarat",
            "Haryana",
            "Himachal Pradesh",
            "Jammu & Kashmir",
            "Jharkhand",
            "Karnataka",
            "Kerala",
            "Madhya Pradesh",
            "Maharashtra",
            "Meghalaya",
            "Odisha",
            "Puducherry",
            "Punjab",
            "Rajasthan",
            "Sikkim",
            "Tamil Nadu",
            "Telangana",
            "Tripura",
            "Uttar Pradesh",
            "Uttarakhand",
            "West Bengal"
           ],
           "lat": {
            "bdata": "bAn5oGfTL0Dek4eFWjM6QEYldQKaGDlAJCh+jLm7PkAsZRniWEc1QBUdyeU/tDxAt2J/2T2ZLkDlYaHWNE82QDsBTYQNDz1A7Z48LNQaP0AAAAAAAAD4f+oENBE2nDdApgpGJXWiLkD6fmq8dLMlQCntDb4w+TZAqvHSTWLAM0BkO99PjXc5QGuad5yi8zRAAAAAAAAA+H/ZPXlYqCU/QBKlvcEXBjtAnMQgsHKIO0CppE5AE0EmQAYSFD/GHDJAqRPQRNjwN0DwhclUwdg6QHBfB84ZET5AW7G/7J78NkA=",
            "dtype": "f8"
           },
           "legendgroup": "",
           "lon": {
            "bdata": "j8L1KFzvU0CyLm6jATxXQCsYldQJVFVAJ6CJsOExU0AzxLEubndUQMP1KFyPRlNADi2yne+HUkDGbTSAtwhSQGgibHh6BVNAF0hQ/BhLU0AAAAAAAAD4f6CJsOHpUVVAUiegibDtUkCFfNCzWRFTQIMvTKYKqlNAUiegibDtUkDl8h/Sb9dWQPyp8dJNRlVAAAAAAAAA+H9LWYY41tVSQBlz1xLyjVJAuECC4scgVkCDL0ymCqpTQAU0ETY8wVNAEHo2qz7/VkBq3nGKjjxUQAU0ETY8wVNAH4XrUbj2VUA=",
            "dtype": "f8"
           },
           "marker": {
            "color": {
             "bdata": "exSuR+F6E0BSuB6F61EYQOtRuB6FKy1AmpmZmZlZMkDXo3A9CpcjQB+F61G43ihApHA9CtejBkDhehSuR+ELQHsUrkfhmjNAkML1KFyPKEApXI/C9egxQNejcD0KVyhACtejcD0KGEB7FK5H4XoZQClcj8L1KA5AAAAAAACAE0AfhetRuB4XQHsUrkfhegxAAAAAAAAA5D8pXI/C9agmQGZmZmZmpiFAZmZmZmZmIEDC9Shcj8LtPwAAAAAAAP4/uB6F61H4P0ApXI/C9agoQJqZmZmZmRVACtejcD2KGkA=",
             "dtype": "f8"
            },
            "coloraxis": "coloraxis",
            "size": {
             "bdata": "exSuR+F6E0BSuB6F61EYQOtRuB6FKy1AmpmZmZlZMkDXo3A9CpcjQB+F61G43ihApHA9CtejBkDhehSuR+ELQHsUrkfhmjNAkML1KFyPKEApXI/C9egxQNejcD0KVyhACtejcD0KGEB7FK5H4XoZQClcj8L1KA5AAAAAAACAE0AfhetRuB4XQHsUrkfhegxAAAAAAAAA5D8pXI/C9agmQGZmZmZmpiFAZmZmZmZmIEDC9Shcj8LtPwAAAAAAAP4/uB6F61H4P0ApXI/C9agoQJqZmZmZmRVACtejcD2KGkA=",
             "dtype": "f8"
            },
            "sizemode": "area",
            "sizeref": 0.121,
            "symbol": "circle"
           },
           "mode": "markers",
           "name": "",
           "showlegend": false,
           "type": "scattergeo"
          }
         ],
         "name": "2019-05-31 00:00:00"
        },
        {
         "data": [
          {
           "geo": "geo",
           "hovertemplate": "<b>%{hovertext}</b><br><br>Date=2019-06-30 00:00:00<br>Estimated Unemployment Rate (%)=%{marker.color}<br>latitude=%{lat}<br>longitude=%{lon}<extra></extra>",
           "hovertext": [
            "Andhra Pradesh",
            "Assam",
            "Bihar",
            "Chandigarh",
            "Chhattisgarh",
            "Delhi",
            "Goa",
            "Gujarat",
            "Haryana",
            "Himachal Pradesh",
            "Jammu & Kashmir",
            "Jharkhand",
            "Karnataka",
            "Kerala",
            "Madhya Pradesh",
            "Maharashtra",
            "Meghalaya",
            "Odisha",
            "Puducherry",
            "Punjab",
            "Rajasthan",
            "Sikkim",
            "Tamil Nadu",
            "Telangana",
            "Tripura",
            "Uttar Pradesh",
            "Uttarakhand",
            "West Bengal"
           ],
           "lat": {
            "bdata": "bAn5oGfTL0Dek4eFWjM6QEYldQKaGDlAJCh+jLm7PkAsZRniWEc1QBUdyeU/tDxAt2J/2T2ZLkDlYaHWNE82QDsBTYQNDz1A7Z48LNQaP0AAAAAAAAD4f+oENBE2nDdApgpGJXWiLkD6fmq8dLMlQCntDb4w+TZAqvHSTWLAM0BkO99PjXc5QGuad5yi8zRAAAAAAAAA+H/ZPXlYqCU/QBKlvcEXBjtAnMQgsHKIO0CppE5AE0EmQAYSFD/GHDJAqRPQRNjwN0DwhclUwdg6QHBfB84ZET5AW7G/7J78NkA=",
            "dtype": "f8"
           },
           "legendgroup": "",
           "lon": {
            "bdata": "j8L1KFzvU0CyLm6jATxXQCsYldQJVFVAJ6CJsOExU0AzxLEubndUQMP1KFyPRlNADi2yne+HUkDGbTSAtwhSQGgibHh6BVNAF0hQ/BhLU0AAAAAAAAD4f6CJsOHpUVVAUiegibDtUkCFfNCzWRFTQIMvTKYKqlNAUiegibDtUkDl8h/Sb9dWQPyp8dJNRlVAAAAAAAAA+H9LWYY41tVSQBlz1xLyjVJAuECC4scgVkCDL0ymCqpTQAU0ETY8wVNAEHo2qz7/VkBq3nGKjjxUQAU0ETY8wVNAH4XrUbj2VUA=",
            "dtype": "f8"
           },
           "marker": {
            "color": {
             "bdata": "ZmZmZmZmC0BxPQrXo/AdQD0K16NwfSdAzczMzMzMKEBI4XoUrociQNejcD0KFyZASOF6FK7HIkAoXI/C9SgWQAAAAAAAwDVArkfhehRuMEC4HoXrUfgvQLkehetR+CxA9ihcj8L1FUDXo3A9ClcfQML1KFyPQhVAmpmZmZmZFUBI4XoUrscZQFyPwvUoXA1AAAAAAAAAAADiehSuR2EpQI/C9ShcDyxACtejcD0KH0DXo3A9CtfzP2ZmZmZmZg1APgrXo3AdOkAAAAAAAMAmQK5H4XoUrhJA9ihcj8J1GkA=",
             "dtype": "f8"
            },
            "coloraxis": "coloraxis",
            "size": {
             "bdata": "ZmZmZmZmC0BxPQrXo/AdQD0K16NwfSdAzczMzMzMKEBI4XoUrociQNejcD0KFyZASOF6FK7HIkAoXI/C9SgWQAAAAAAAwDVArkfhehRuMEC4HoXrUfgvQLkehetR+CxA9ihcj8L1FUDXo3A9ClcfQML1KFyPQhVAmpmZmZmZFUBI4XoUrscZQFyPwvUoXA1AAAAAAAAAAADiehSuR2EpQI/C9ShcDyxACtejcD0KH0DXo3A9CtfzP2ZmZmZmZg1APgrXo3AdOkAAAAAAAMAmQK5H4XoUrhJA9ihcj8J1GkA=",
             "dtype": "f8"
            },
            "sizemode": "area",
            "sizeref": 0.121,
            "symbol": "circle"
           },
           "mode": "markers",
           "name": "",
           "showlegend": false,
           "type": "scattergeo"
          }
         ],
         "name": "2019-06-30 00:00:00"
        },
        {
         "data": [
          {
           "geo": "geo",
           "hovertemplate": "<b>%{hovertext}</b><br><br>Date=2019-07-31 00:00:00<br>Estimated Unemployment Rate (%)=%{marker.color}<br>latitude=%{lat}<br>longitude=%{lon}<extra></extra>",
           "hovertext": [
            "Andhra Pradesh",
            "Assam",
            "Bihar",
            "Chandigarh",
            "Chhattisgarh",
            "Delhi",
            "Goa",
            "Gujarat",
            "Haryana",
            "Himachal Pradesh",
            "Jammu & Kashmir",
            "Jharkhand",
            "Karnataka",
            "Kerala",
            "Madhya Pradesh",
            "Maharashtra",
            "Meghalaya",
            "Odisha",
            "Puducherry",
            "Punjab",
            "Rajasthan",
            "Sikkim",
            "Tamil Nadu",
            "Telangana",
            "Tripura",
            "Uttar Pradesh",
            "Uttarakhand",
            "West Bengal"
           ],
           "lat": {
            "bdata": "bAn5oGfTL0Dek4eFWjM6QEYldQKaGDlAJCh+jLm7PkAsZRniWEc1QBUdyeU/tDxAt2J/2T2ZLkDlYaHWNE82QDsBTYQNDz1A7Z48LNQaP0AAAAAAAAD4f+oENBE2nDdApgpGJXWiLkD6fmq8dLMlQCntDb4w+TZAqvHSTWLAM0BkO99PjXc5QGuad5yi8zRAAAAAAAAA+H/ZPXlYqCU/QBKlvcEXBjtAnMQgsHKIO0CppE5AE0EmQAYSFD/GHDJAqRPQRNjwN0DwhclUwdg6QHBfB84ZET5AW7G/7J78NkA=",
            "dtype": "f8"
           },
           "legendgroup": "",
           "lon": {
            "bdata": "j8L1KFzvU0CyLm6jATxXQCsYldQJVFVAJ6CJsOExU0AzxLEubndUQMP1KFyPRlNADi2yne+HUkDGbTSAtwhSQGgibHh6BVNAF0hQ/BhLU0AAAAAAAAD4f6CJsOHpUVVAUiegibDtUkCFfNCzWRFTQIMvTKYKqlNAUiegibDtUkDl8h/Sb9dWQPyp8dJNRlVAAAAAAAAA+H9LWYY41tVSQBlz1xLyjVJAuECC4scgVkCDL0ymCqpTQAU0ETY8wVNAEHo2qz7/VkBq3nGKjjxUQAU0ETY8wVNAH4XrUbj2VUA=",
            "dtype": "f8"
           },
           "marker": {
            "color": {
             "bdata": "SOF6FK7HEkDhehSuR+ENQJqZmZmZ2S1AzczMzMzMNUDsUbgehWsZQAAAAAAAwClAwvUoXI9CJ0D2KFyPwnUTQPYoXI/C1TRAzczMzMwMNUBcj8L1KJwxQGZmZmZmpilAexSuR+F69j+QwvUoXA8ZQJqZmZmZmRZAhetRuB4FFEDXo3A9CtcFQFyPwvUoXARAAAAAAAAAAAAAAAAAAEAlQB6F61G4XiVAexSuR+F6BEDhehSuR2ESQLgehetRuAhApHA9CtcjOEA+CtejcP0kQFyPwvUoXBlAkML1KFwPG0A=",
             "dtype": "f8"
            },
            "coloraxis": "coloraxis",
            "size": {
             "bdata": "SOF6FK7HEkDhehSuR+ENQJqZmZmZ2S1AzczMzMzMNUDsUbgehWsZQAAAAAAAwClAwvUoXI9CJ0D2KFyPwnUTQPYoXI/C1TRAzczMzMwMNUBcj8L1KJwxQGZmZmZmpilAexSuR+F69j+QwvUoXA8ZQJqZmZmZmRZAhetRuB4FFEDXo3A9CtcFQFyPwvUoXARAAAAAAAAAAAAAAAAAAEAlQB6F61G4XiVAexSuR+F6BEDhehSuR2ESQLgehetRuAhApHA9CtcjOEA+CtejcP0kQFyPwvUoXBlAkML1KFwPG0A=",
             "dtype": "f8"
            },
            "sizemode": "area",
            "sizeref": 0.121,
            "symbol": "circle"
           },
           "mode": "markers",
           "name": "",
           "showlegend": false,
           "type": "scattergeo"
          }
         ],
         "name": "2019-07-31 00:00:00"
        },
        {
         "data": [
          {
           "geo": "geo",
           "hovertemplate": "<b>%{hovertext}</b><br><br>Date=2019-08-31 00:00:00<br>Estimated Unemployment Rate (%)=%{marker.color}<br>latitude=%{lat}<br>longitude=%{lon}<extra></extra>",
           "hovertext": [
            "Andhra Pradesh",
            "Assam",
            "Bihar",
            "Chandigarh",
            "Chhattisgarh",
            "Delhi",
            "Goa",
            "Gujarat",
            "Haryana",
            "Himachal Pradesh",
            "Jammu & Kashmir",
            "Jharkhand",
            "Karnataka",
            "Kerala",
            "Madhya Pradesh",
            "Maharashtra",
            "Meghalaya",
            "Odisha",
            "Puducherry",
            "Punjab",
            "Rajasthan",
            "Sikkim",
            "Tamil Nadu",
            "Telangana",
            "Tripura",
            "Uttar Pradesh",
            "Uttarakhand",
            "West Bengal"
           ],
           "lat": {
            "bdata": "bAn5oGfTL0Dek4eFWjM6QEYldQKaGDlAJCh+jLm7PkAsZRniWEc1QBUdyeU/tDxAt2J/2T2ZLkDlYaHWNE82QDsBTYQNDz1A7Z48LNQaP0AAAAAAAAD4f+oENBE2nDdApgpGJXWiLkD6fmq8dLMlQCntDb4w+TZAqvHSTWLAM0BkO99PjXc5QGuad5yi8zRAAAAAAAAA+H/ZPXlYqCU/QBKlvcEXBjtAnMQgsHKIO0CppE5AE0EmQAYSFD/GHDJAqRPQRNjwN0DwhclUwdg6QHBfB84ZET5AW7G/7J78NkA=",
            "dtype": "f8"
           },
           "legendgroup": "",
           "lon": {
            "bdata": "j8L1KFzvU0CyLm6jATxXQCsYldQJVFVAJ6CJsOExU0AzxLEubndUQMP1KFyPRlNADi2yne+HUkDGbTSAtwhSQGgibHh6BVNAF0hQ/BhLU0AAAAAAAAD4f6CJsOHpUVVAUiegibDtUkCFfNCzWRFTQIMvTKYKqlNAUiegibDtUkDl8h/Sb9dWQPyp8dJNRlVAAAAAAAAA+H9LWYY41tVSQBlz1xLyjVJAuECC4scgVkCDL0ymCqpTQAU0ETY8wVNAEHo2qz7/VkBq3nGKjjxUQAU0ETY8wVNAH4XrUbj2VUA=",
            "dtype": "f8"
           },
           "marker": {
            "color": {
             "bdata": "uB6F61G4D0CuR+F6FC4gQClcj8L1qCxACtejcD0KI0Bcj8L1KNwVQDMzMzMzsy5AhutRuB6FC0CamZmZmZkPQHE9CtejkDtAhetRuB6FNUCkcD0K16MmQEjhehSuJzBAPgrXo3A96j/D9ShcjwIiQIbrUbgehRdAKVyPwvWoFkBI4XoUrkcJQLgehetRuAxAmZmZmZmZG0CuR+F6FK4iQPYoXI/CNStASOF6FK5HE0DhehSuR+EYQFyPwvUoXAZAuB6F61F4PUA0MzMzMzMqQBSuR+F6FBtAMzMzMzOzGUA=",
             "dtype": "f8"
            },
            "coloraxis": "coloraxis",
            "size": {
             "bdata": "uB6F61G4D0CuR+F6FC4gQClcj8L1qCxACtejcD0KI0Bcj8L1KNwVQDMzMzMzsy5AhutRuB6FC0CamZmZmZkPQHE9CtejkDtAhetRuB6FNUCkcD0K16MmQEjhehSuJzBAPgrXo3A96j/D9ShcjwIiQIbrUbgehRdAKVyPwvWoFkBI4XoUrkcJQLgehetRuAxAmZmZmZmZG0CuR+F6FK4iQPYoXI/CNStASOF6FK5HE0DhehSuR+EYQFyPwvUoXAZAuB6F61F4PUA0MzMzMzMqQBSuR+F6FBtAMzMzMzOzGUA=",
             "dtype": "f8"
            },
            "sizemode": "area",
            "sizeref": 0.121,
            "symbol": "circle"
           },
           "mode": "markers",
           "name": "",
           "showlegend": false,
           "type": "scattergeo"
          }
         ],
         "name": "2019-08-31 00:00:00"
        },
        {
         "data": [
          {
           "geo": "geo",
           "hovertemplate": "<b>%{hovertext}</b><br><br>Date=2019-09-30 00:00:00<br>Estimated Unemployment Rate (%)=%{marker.color}<br>latitude=%{lat}<br>longitude=%{lon}<extra></extra>",
           "hovertext": [
            "Andhra Pradesh",
            "Assam",
            "Bihar",
            "Chandigarh",
            "Chhattisgarh",
            "Delhi",
            "Goa",
            "Gujarat",
            "Haryana",
            "Himachal Pradesh",
            "Jharkhand",
            "Karnataka",
            "Kerala",
            "Madhya Pradesh",
            "Maharashtra",
            "Meghalaya",
            "Odisha",
            "Puducherry",
            "Punjab",
            "Rajasthan",
            "Sikkim",
            "Tamil Nadu",
            "Telangana",
            "Tripura",
            "Uttar Pradesh",
            "Uttarakhand",
            "West Bengal"
           ],
           "lat": {
            "bdata": "bAn5oGfTL0Dek4eFWjM6QEYldQKaGDlAJCh+jLm7PkAsZRniWEc1QBUdyeU/tDxAt2J/2T2ZLkDlYaHWNE82QDsBTYQNDz1A7Z48LNQaP0DqBDQRNpw3QKYKRiV1oi5A+n5qvHSzJUAp7Q2+MPk2QKrx0k1iwDNAZDvfT413OUBrmnecovM0QAAAAAAAAPh/2T15WKglP0ASpb3BFwY7QJzEILByiDtAqaROQBNBJkAGEhQ/xhwyQKkT0ETY8DdA8IXJVMHYOkBwXwfOGRE+QFuxv+ye/DZA",
            "dtype": "f8"
           },
           "legendgroup": "",
           "lon": {
            "bdata": "j8L1KFzvU0CyLm6jATxXQCsYldQJVFVAJ6CJsOExU0AzxLEubndUQMP1KFyPRlNADi2yne+HUkDGbTSAtwhSQGgibHh6BVNAF0hQ/BhLU0CgibDh6VFVQFInoImw7VJAhXzQs1kRU0CDL0ymCqpTQFInoImw7VJA5fIf0m/XVkD8qfHSTUZVQAAAAAAAAPh/S1mGONbVUkAZc9cS8o1SQLhAguLHIFZAgy9MpgqqU0AFNBE2PMFTQBB6Nqs+/1ZAat5xio48VEAFNBE2PMFTQB+F61G49lVA",
            "dtype": "f8"
           },
           "marker": {
            "color": {
             "bdata": "XI/C9ShcFkBwPQrXo3AbQBSuR+F6VC1ApHA9CtcjNEAK16NwPcohQOxRuB6FizBAFK5H4XoUC0AAAAAAAIAYQJqZmZmZmTVAexSuR+H6K0BI4XoUrkcsQBSuR+F6FAtAPQrXo3C9FUApXI/C9SgUQAAAAAAAABhAKVyPwvUoBkCuR+F6FC4QQIXrUbgeheM/SOF6FK5HKEAVrkfhehQiQD0K16NwPRNAkML1KFyP/D9cj8L1KFwXQGZmZmZm5j9ASOF6FK4HJECuR+F6FC4aQJqZmZmZGRpA",
             "dtype": "f8"
            },
            "coloraxis": "coloraxis",
            "size": {
             "bdata": "XI/C9ShcFkBwPQrXo3AbQBSuR+F6VC1ApHA9CtcjNEAK16NwPcohQOxRuB6FizBAFK5H4XoUC0AAAAAAAIAYQJqZmZmZmTVAexSuR+H6K0BI4XoUrkcsQBSuR+F6FAtAPQrXo3C9FUApXI/C9SgUQAAAAAAAABhAKVyPwvUoBkCuR+F6FC4QQIXrUbgeheM/SOF6FK5HKEAVrkfhehQiQD0K16NwPRNAkML1KFyP/D9cj8L1KFwXQGZmZmZm5j9ASOF6FK4HJECuR+F6FC4aQJqZmZmZGRpA",
             "dtype": "f8"
            },
            "sizemode": "area",
            "sizeref": 0.121,
            "symbol": "circle"
           },
           "mode": "markers",
           "name": "",
           "showlegend": false,
           "type": "scattergeo"
          }
         ],
         "name": "2019-09-30 00:00:00"
        },
        {
         "data": [
          {
           "geo": "geo",
           "hovertemplate": "<b>%{hovertext}</b><br><br>Date=2019-10-31 00:00:00<br>Estimated Unemployment Rate (%)=%{marker.color}<br>latitude=%{lat}<br>longitude=%{lon}<extra></extra>",
           "hovertext": [
            "Andhra Pradesh",
            "Assam",
            "Bihar",
            "Chandigarh",
            "Chhattisgarh",
            "Delhi",
            "Goa",
            "Gujarat",
            "Haryana",
            "Himachal Pradesh",
            "Jammu & Kashmir",
            "Jharkhand",
            "Karnataka",
            "Kerala",
            "Madhya Pradesh",
            "Maharashtra",
            "Meghalaya",
            "Odisha",
            "Puducherry",
            "Punjab",
            "Rajasthan",
            "Sikkim",
            "Tamil Nadu",
            "Telangana",
            "Tripura",
            "Uttar Pradesh",
            "Uttarakhand",
            "West Bengal"
           ],
           "lat": {
            "bdata": "bAn5oGfTL0Dek4eFWjM6QEYldQKaGDlAJCh+jLm7PkAsZRniWEc1QBUdyeU/tDxAt2J/2T2ZLkDlYaHWNE82QDsBTYQNDz1A7Z48LNQaP0AAAAAAAAD4f+oENBE2nDdApgpGJXWiLkD6fmq8dLMlQCntDb4w+TZAqvHSTWLAM0BkO99PjXc5QGuad5yi8zRAAAAAAAAA+H/ZPXlYqCU/QBKlvcEXBjtAnMQgsHKIO0CppE5AE0EmQAYSFD/GHDJAqRPQRNjwN0DwhclUwdg6QHBfB84ZET5AW7G/7J78NkA=",
            "dtype": "f8"
           },
           "legendgroup": "",
           "lon": {
            "bdata": "j8L1KFzvU0CyLm6jATxXQCsYldQJVFVAJ6CJsOExU0AzxLEubndUQMP1KFyPRlNADi2yne+HUkDGbTSAtwhSQGgibHh6BVNAF0hQ/BhLU0AAAAAAAAD4f6CJsOHpUVVAUiegibDtUkCFfNCzWRFTQIMvTKYKqlNAUiegibDtUkDl8h/Sb9dWQPyp8dJNRlVAAAAAAAAA+H9LWYY41tVSQBlz1xLyjVJAuECC4scgVkCDL0ymCqpTQAU0ETY8wVNAEHo2qz7/VkBq3nGKjjxUQAU0ETY8wVNAH4XrUbj2VUA=",
            "dtype": "f8"
           },
           "marker": {
            "color": {
             "bdata": "cT0K16NwEECkcD0K16MfQEjhehSuhypAexSuR+H6K0B7FK5H4TohQAAAAAAAQCxAhetRuB6FI0C4HoXrUbgUQHsUrkfhmjZACtejcD3KM0AK16NwPao1QB+F61G4nilAAAAAAAAAFkB7FK5H4focQIbrUbgehQ1ApHA9CtejFkDNzMzMzMwVQJDC9ShcjxFAzMzMzMzM8j+QwvUoXE8qQK5H4XoUritAUrgehetRHkC4HoXrUbj0P5DC9ShcDxxAexSuR+EaO0BI4XoUrockQJqZmZmZGRNAuB6F61E4HUA=",
             "dtype": "f8"
            },
            "coloraxis": "coloraxis",
            "size": {
             "bdata": "cT0K16NwEECkcD0K16MfQEjhehSuhypAexSuR+H6K0B7FK5H4TohQAAAAAAAQCxAhetRuB6FI0C4HoXrUbgUQHsUrkfhmjZACtejcD3KM0AK16NwPao1QB+F61G4nilAAAAAAAAAFkB7FK5H4focQIbrUbgehQ1ApHA9CtejFkDNzMzMzMwVQJDC9ShcjxFAzMzMzMzM8j+QwvUoXE8qQK5H4XoUritAUrgehetRHkC4HoXrUbj0P5DC9ShcDxxAexSuR+EaO0BI4XoUrockQJqZmZmZGRNAuB6F61E4HUA=",
             "dtype": "f8"
            },
            "sizemode": "area",
            "sizeref": 0.121,
            "symbol": "circle"
           },
           "mode": "markers",
           "name": "",
           "showlegend": false,
           "type": "scattergeo"
          }
         ],
         "name": "2019-10-31 00:00:00"
        },
        {
         "data": [
          {
           "geo": "geo",
           "hovertemplate": "<b>%{hovertext}</b><br><br>Date=2019-11-30 00:00:00<br>Estimated Unemployment Rate (%)=%{marker.color}<br>latitude=%{lat}<br>longitude=%{lon}<extra></extra>",
           "hovertext": [
            "Andhra Pradesh",
            "Assam",
            "Bihar",
            "Chandigarh",
            "Chhattisgarh",
            "Delhi",
            "Goa",
            "Gujarat",
            "Haryana",
            "Himachal Pradesh",
            "Jammu & Kashmir",
            "Jharkhand",
            "Karnataka",
            "Kerala",
            "Madhya Pradesh",
            "Maharashtra",
            "Meghalaya",
            "Odisha",
            "Puducherry",
            "Punjab",
            "Rajasthan",
            "Sikkim",
            "Tamil Nadu",
            "Telangana",
            "Tripura",
            "Uttar Pradesh",
            "Uttarakhand",
            "West Bengal"
           ],
           "lat": {
            "bdata": "bAn5oGfTL0Dek4eFWjM6QEYldQKaGDlAJCh+jLm7PkAsZRniWEc1QBUdyeU/tDxAt2J/2T2ZLkDlYaHWNE82QDsBTYQNDz1A7Z48LNQaP0AAAAAAAAD4f+oENBE2nDdApgpGJXWiLkD6fmq8dLMlQCntDb4w+TZAqvHSTWLAM0BkO99PjXc5QGuad5yi8zRAAAAAAAAA+H/ZPXlYqCU/QBKlvcEXBjtAnMQgsHKIO0CppE5AE0EmQAYSFD/GHDJAqRPQRNjwN0DwhclUwdg6QHBfB84ZET5AW7G/7J78NkA=",
            "dtype": "f8"
           },
           "legendgroup": "",
           "lon": {
            "bdata": "j8L1KFzvU0CyLm6jATxXQCsYldQJVFVAJ6CJsOExU0AzxLEubndUQMP1KFyPRlNADi2yne+HUkDGbTSAtwhSQGgibHh6BVNAF0hQ/BhLU0AAAAAAAAD4f6CJsOHpUVVAUiegibDtUkCFfNCzWRFTQIMvTKYKqlNAUiegibDtUkDl8h/Sb9dWQPyp8dJNRlVAAAAAAAAA+H9LWYY41tVSQBlz1xLyjVJAuECC4scgVkCDL0ymCqpTQAU0ETY8wVNAEHo2qz7/VkBq3nGKjjxUQAU0ETY8wVNAH4XrUbj2VUA=",
            "dtype": "f8"
           },
           "marker": {
            "color": {
             "bdata": "UrgehetRF0BwPQrXo/AVQIbrUbgeBS5AzczMzMwMNkCuR+F6FC4WQLgehetROCtAFK5H4Xp0OEDsUbgehWsYQDMzMzMz0zVAcD0K16MQOUCF61G4HgUtQClcj8L1aClAhetRuB6FAkDsUbgehWsXQI/C9ShcjxFAj8L1KFyPFkAUrkfhehQCQMzMzMzMzAtA7FG4HoXr5T/2KFyPwnUhQIbrUbgexShAZmZmZmYmIUBwPQrXo3AEQGZmZmZmZhdAMzMzMzMzOkAAAAAAAEAiQMzMzMzMzBdA4noUrkfhGEA=",
             "dtype": "f8"
            },
            "coloraxis": "coloraxis",
            "size": {
             "bdata": "UrgehetRF0BwPQrXo/AVQIbrUbgeBS5AzczMzMwMNkCuR+F6FC4WQLgehetROCtAFK5H4Xp0OEDsUbgehWsYQDMzMzMz0zVAcD0K16MQOUCF61G4HgUtQClcj8L1aClAhetRuB6FAkDsUbgehWsXQI/C9ShcjxFAj8L1KFyPFkAUrkfhehQCQMzMzMzMzAtA7FG4HoXr5T/2KFyPwnUhQIbrUbgexShAZmZmZmYmIUBwPQrXo3AEQGZmZmZmZhdAMzMzMzMzOkAAAAAAAEAiQMzMzMzMzBdA4noUrkfhGEA=",
             "dtype": "f8"
            },
            "sizemode": "area",
            "sizeref": 0.121,
            "symbol": "circle"
           },
           "mode": "markers",
           "name": "",
           "showlegend": false,
           "type": "scattergeo"
          }
         ],
         "name": "2019-11-30 00:00:00"
        },
        {
         "data": [
          {
           "geo": "geo",
           "hovertemplate": "<b>%{hovertext}</b><br><br>Date=2019-12-31 00:00:00<br>Estimated Unemployment Rate (%)=%{marker.color}<br>latitude=%{lat}<br>longitude=%{lon}<extra></extra>",
           "hovertext": [
            "Andhra Pradesh",
            "Assam",
            "Bihar",
            "Chandigarh",
            "Chhattisgarh",
            "Delhi",
            "Goa",
            "Gujarat",
            "Haryana",
            "Himachal Pradesh",
            "Jammu & Kashmir",
            "Jharkhand",
            "Karnataka",
            "Kerala",
            "Madhya Pradesh",
            "Maharashtra",
            "Meghalaya",
            "Odisha",
            "Puducherry",
            "Punjab",
            "Rajasthan",
            "Sikkim",
            "Tamil Nadu",
            "Telangana",
            "Tripura",
            "Uttar Pradesh",
            "Uttarakhand",
            "West Bengal"
           ],
           "lat": {
            "bdata": "bAn5oGfTL0Dek4eFWjM6QEYldQKaGDlAJCh+jLm7PkAsZRniWEc1QBUdyeU/tDxAt2J/2T2ZLkDlYaHWNE82QDsBTYQNDz1A7Z48LNQaP0AAAAAAAAD4f+oENBE2nDdApgpGJXWiLkD6fmq8dLMlQCntDb4w+TZAqvHSTWLAM0BkO99PjXc5QGuad5yi8zRAAAAAAAAA+H/ZPXlYqCU/QBKlvcEXBjtAnMQgsHKIO0CppE5AE0EmQAYSFD/GHDJAqRPQRNjwN0DwhclUwdg6QHBfB84ZET5AW7G/7J78NkA=",
            "dtype": "f8"
           },
           "legendgroup": "",
           "lon": {
            "bdata": "j8L1KFzvU0CyLm6jATxXQCsYldQJVFVAJ6CJsOExU0AzxLEubndUQMP1KFyPRlNADi2yne+HUkDGbTSAtwhSQGgibHh6BVNAF0hQ/BhLU0AAAAAAAAD4f6CJsOHpUVVAUiegibDtUkCFfNCzWRFTQIMvTKYKqlNAUiegibDtUkDl8h/Sb9dWQPyp8dJNRlVAAAAAAAAA+H9LWYY41tVSQBlz1xLyjVJAuECC4scgVkCDL0ymCqpTQAU0ETY8wVNAEHo2qz7/VkBq3nGKjjxUQAU0ETY8wVNAH4XrUbj2VUA=",
            "dtype": "f8"
           },
           "marker": {
            "color": {
             "bdata": "hetRuB6FGEAUrkfhehQUQFK4HoXrESlAKVyPwvWoIEBcj8L1KFwTQArXo3A9CixAwvUoXI/CI0DXo3A9ClcSQHoUrkfhmjpApHA9CtdjNkAUrkfhehQcQBWuR+F6lDJAhetRuB6F7z8UrkfhehQiQEjhehSuRxJAuB6F61G4FUAK16NwPQoMQI/C9ShcDxBAzczMzMzMDECamZmZmRkiQAAAAAAAADBAPgrXo3C9EECQwvUoXI8XQEjhehSuRwZA4XoUrkcBPkDMzMzMzMwkQFK4HoXr0RdAkML1KFwPGkA=",
             "dtype": "f8"
            },
            "coloraxis": "coloraxis",
            "size": {
             "bdata": "hetRuB6FGEAUrkfhehQUQFK4HoXrESlAKVyPwvWoIEBcj8L1KFwTQArXo3A9CixAwvUoXI/CI0DXo3A9ClcSQHoUrkfhmjpApHA9CtdjNkAUrkfhehQcQBWuR+F6lDJAhetRuB6F7z8UrkfhehQiQEjhehSuRxJAuB6F61G4FUAK16NwPQoMQI/C9ShcDxBAzczMzMzMDECamZmZmRkiQAAAAAAAADBAPgrXo3C9EECQwvUoXI8XQEjhehSuRwZA4XoUrkcBPkDMzMzMzMwkQFK4HoXr0RdAkML1KFwPGkA=",
             "dtype": "f8"
            },
            "sizemode": "area",
            "sizeref": 0.121,
            "symbol": "circle"
           },
           "mode": "markers",
           "name": "",
           "showlegend": false,
           "type": "scattergeo"
          }
         ],
         "name": "2019-12-31 00:00:00"
        },
        {
         "data": [
          {
           "geo": "geo",
           "hovertemplate": "<b>%{hovertext}</b><br><br>Date=2020-01-31 00:00:00<br>Estimated Unemployment Rate (%)=%{marker.color}<br>latitude=%{lat}<br>longitude=%{lon}<extra></extra>",
           "hovertext": [
            "Andhra Pradesh",
            "Assam",
            "Bihar",
            "Chandigarh",
            "Chhattisgarh",
            "Delhi",
            "Goa",
            "Gujarat",
            "Haryana",
            "Himachal Pradesh",
            "Jammu & Kashmir",
            "Jharkhand",
            "Karnataka",
            "Kerala",
            "Madhya Pradesh",
            "Maharashtra",
            "Meghalaya",
            "Odisha",
            "Puducherry",
            "Punjab",
            "Rajasthan",
            "Tamil Nadu",
            "Telangana",
            "Tripura",
            "Uttar Pradesh",
            "Uttarakhand",
            "West Bengal"
           ],
           "lat": {
            "bdata": "bAn5oGfTL0Dek4eFWjM6QEYldQKaGDlAJCh+jLm7PkAsZRniWEc1QBUdyeU/tDxAt2J/2T2ZLkDlYaHWNE82QDsBTYQNDz1A7Z48LNQaP0AAAAAAAAD4f+oENBE2nDdApgpGJXWiLkD6fmq8dLMlQCntDb4w+TZAqvHSTWLAM0BkO99PjXc5QGuad5yi8zRAAAAAAAAA+H/ZPXlYqCU/QBKlvcEXBjtAqaROQBNBJkAGEhQ/xhwyQKkT0ETY8DdA8IXJVMHYOkBwXwfOGRE+QFuxv+ye/DZA",
            "dtype": "f8"
           },
           "legendgroup": "",
           "lon": {
            "bdata": "j8L1KFzvU0CyLm6jATxXQCsYldQJVFVAJ6CJsOExU0AzxLEubndUQMP1KFyPRlNADi2yne+HUkDGbTSAtwhSQGgibHh6BVNAF0hQ/BhLU0AAAAAAAAD4f6CJsOHpUVVAUiegibDtUkCFfNCzWRFTQIMvTKYKqlNAUiegibDtUkDl8h/Sb9dWQPyp8dJNRlVAAAAAAAAA+H9LWYY41tVSQBlz1xLyjVJAgy9MpgqqU0AFNBE2PMFTQBB6Nqs+/1ZAat5xio48VEAFNBE2PMFTQB+F61G49lVA",
            "dtype": "f8"
           },
           "marker": {
            "color": {
             "bdata": "ZmZmZmbmF0CQwvUoXA8XQFK4HoXr0S1AAAAAAAAANEBmZmZmZuYiQNejcD0K9zFAzczMzMxMIEDXo3A9ClcWQJqZmZmZuTVAKVyPwvVoMUA+CtejcF00QB+F61G4Hi1AhetRuB6FB0CG61G4HoUVQClcj8L1qBFAcD0K16PwFEDrUbgehesGQFyPwvUoXABAZmZmZmZm4j8ehetRuF4nQFK4HoXr0SpA1qNwPQrX+T+F61G4HgUXQFK4HoXrkUBAZmZmZmZmIkCuR+F6FC4aQB6F61G4HhxA",
             "dtype": "f8"
            },
            "coloraxis": "coloraxis",
            "size": {
             "bdata": "ZmZmZmbmF0CQwvUoXA8XQFK4HoXr0S1AAAAAAAAANEBmZmZmZuYiQNejcD0K9zFAzczMzMxMIEDXo3A9ClcWQJqZmZmZuTVAKVyPwvVoMUA+CtejcF00QB+F61G4Hi1AhetRuB6FB0CG61G4HoUVQClcj8L1qBFAcD0K16PwFEDrUbgehesGQFyPwvUoXABAZmZmZmZm4j8ehetRuF4nQFK4HoXr0SpA1qNwPQrX+T+F61G4HgUXQFK4HoXrkUBAZmZmZmZmIkCuR+F6FC4aQB6F61G4HhxA",
             "dtype": "f8"
            },
            "sizemode": "area",
            "sizeref": 0.121,
            "symbol": "circle"
           },
           "mode": "markers",
           "name": "",
           "showlegend": false,
           "type": "scattergeo"
          }
         ],
         "name": "2020-01-31 00:00:00"
        },
        {
         "data": [
          {
           "geo": "geo",
           "hovertemplate": "<b>%{hovertext}</b><br><br>Date=2020-02-29 00:00:00<br>Estimated Unemployment Rate (%)=%{marker.color}<br>latitude=%{lat}<br>longitude=%{lon}<extra></extra>",
           "hovertext": [
            "Andhra Pradesh",
            "Assam",
            "Bihar",
            "Chandigarh",
            "Chhattisgarh",
            "Delhi",
            "Goa",
            "Gujarat",
            "Haryana",
            "Himachal Pradesh",
            "Jammu & Kashmir",
            "Jharkhand",
            "Karnataka",
            "Kerala",
            "Madhya Pradesh",
            "Maharashtra",
            "Meghalaya",
            "Odisha",
            "Puducherry",
            "Punjab",
            "Rajasthan",
            "Tamil Nadu",
            "Telangana",
            "Tripura",
            "Uttar Pradesh",
            "Uttarakhand",
            "West Bengal"
           ],
           "lat": {
            "bdata": "bAn5oGfTL0Dek4eFWjM6QEYldQKaGDlAJCh+jLm7PkAsZRniWEc1QBUdyeU/tDxAt2J/2T2ZLkDlYaHWNE82QDsBTYQNDz1A7Z48LNQaP0AAAAAAAAD4f+oENBE2nDdApgpGJXWiLkD6fmq8dLMlQCntDb4w+TZAqvHSTWLAM0BkO99PjXc5QGuad5yi8zRAAAAAAAAA+H/ZPXlYqCU/QBKlvcEXBjtAqaROQBNBJkAGEhQ/xhwyQKkT0ETY8DdA8IXJVMHYOkBwXwfOGRE+QFuxv+ye/DZA",
            "dtype": "f8"
           },
           "legendgroup": "",
           "lon": {
            "bdata": "j8L1KFzvU0CyLm6jATxXQCsYldQJVFVAJ6CJsOExU0AzxLEubndUQMP1KFyPRlNADi2yne+HUkDGbTSAtwhSQGgibHh6BVNAF0hQ/BhLU0AAAAAAAAD4f6CJsOHpUVVAUiegibDtUkCFfNCzWRFTQIMvTKYKqlNAUiegibDtUkDl8h/Sb9dWQPyp8dJNRlVAAAAAAAAA+H9LWYY41tVSQBlz1xLyjVJAgy9MpgqqU0AFNBE2PMFTQBB6Nqs+/1ZAat5xio48VEAFNBE2PMFTQB+F61G49lVA",
            "dtype": "f8"
           },
           "marker": {
            "color": {
             "bdata": "pHA9CtcjF0B7FK5H4XoaQLgehetRuChA7FG4HoWrMECuR+F6FK4hQOxRuB6FqyxAPQrXo3A9AUBcj8L1KFwZQD4K16NwPTlAPQrXo3BdNUDsUbgehYs0QHwUrkfhuixA9ihcj8L1C0B7FK5H4fodQML1KFyPwhJAKVyPwvUoE0DC9Shcj0IUQAAAAAAAAAZAKVyPwvUo/D9mZmZmZmYmQAAAAAAAgC9A7FG4HoXrAUCF61G4HoUfQM3MzMzMDD5AhetRuB7FI0DC9Shcj0IUQClcj8L1qBZA",
             "dtype": "f8"
            },
            "coloraxis": "coloraxis",
            "size": {
             "bdata": "pHA9CtcjF0B7FK5H4XoaQLgehetRuChA7FG4HoWrMECuR+F6FK4hQOxRuB6FqyxAPQrXo3A9AUBcj8L1KFwZQD4K16NwPTlAPQrXo3BdNUDsUbgehYs0QHwUrkfhuixA9ihcj8L1C0B7FK5H4fodQML1KFyPwhJAKVyPwvUoE0DC9Shcj0IUQAAAAAAAAAZAKVyPwvUo/D9mZmZmZmYmQAAAAAAAgC9A7FG4HoXrAUCF61G4HoUfQM3MzMzMDD5AhetRuB7FI0DC9Shcj0IUQClcj8L1qBZA",
             "dtype": "f8"
            },
            "sizemode": "area",
            "sizeref": 0.121,
            "symbol": "circle"
           },
           "mode": "markers",
           "name": "",
           "showlegend": false,
           "type": "scattergeo"
          }
         ],
         "name": "2020-02-29 00:00:00"
        },
        {
         "data": [
          {
           "geo": "geo",
           "hovertemplate": "<b>%{hovertext}</b><br><br>Date=2020-03-31 00:00:00<br>Estimated Unemployment Rate (%)=%{marker.color}<br>latitude=%{lat}<br>longitude=%{lon}<extra></extra>",
           "hovertext": [
            "Andhra Pradesh",
            "Assam",
            "Bihar",
            "Chandigarh",
            "Chhattisgarh",
            "Delhi",
            "Goa",
            "Gujarat",
            "Haryana",
            "Himachal Pradesh",
            "Jammu & Kashmir",
            "Jharkhand",
            "Karnataka",
            "Kerala",
            "Madhya Pradesh",
            "Maharashtra",
            "Meghalaya",
            "Odisha",
            "Puducherry",
            "Punjab",
            "Rajasthan",
            "Sikkim",
            "Tamil Nadu",
            "Telangana",
            "Tripura",
            "Uttar Pradesh",
            "Uttarakhand",
            "West Bengal"
           ],
           "lat": {
            "bdata": "bAn5oGfTL0Dek4eFWjM6QEYldQKaGDlAJCh+jLm7PkAsZRniWEc1QBUdyeU/tDxAt2J/2T2ZLkDlYaHWNE82QDsBTYQNDz1A7Z48LNQaP0AAAAAAAAD4f+oENBE2nDdApgpGJXWiLkD6fmq8dLMlQCntDb4w+TZAqvHSTWLAM0BkO99PjXc5QGuad5yi8zRAAAAAAAAA+H/ZPXlYqCU/QBKlvcEXBjtAnMQgsHKIO0CppE5AE0EmQAYSFD/GHDJAqRPQRNjwN0DwhclUwdg6QHBfB84ZET5AW7G/7J78NkA=",
            "dtype": "f8"
           },
           "legendgroup": "",
           "lon": {
            "bdata": "j8L1KFzvU0CyLm6jATxXQCsYldQJVFVAJ6CJsOExU0AzxLEubndUQMP1KFyPRlNADi2yne+HUkDGbTSAtwhSQGgibHh6BVNAF0hQ/BhLU0AAAAAAAAD4f6CJsOHpUVVAUiegibDtUkCFfNCzWRFTQIMvTKYKqlNAUiegibDtUkDl8h/Sb9dWQPyp8dJNRlVAAAAAAAAA+H9LWYY41tVSQBlz1xLyjVJAuECC4scgVkCDL0ymCqpTQAU0ETY8wVNAEHo2qz7/VkBq3nGKjjxUQAU0ETY8wVNAH4XrUbj2VUA=",
            "dtype": "f8"
           },
           "marker": {
            "color": {
             "bdata": "4noUrkfhG0C4HoXrUTgcQB+F61G4Hi9ArkfhehRuNUAK16NwPQofQML1KFyPIjBACtejcD0KE0D2KFyPwvUZQEjhehSuhzlANDMzMzMTNkAK16NwPUouQChcj8L1aCVAPgrXo3A9DUA+CtejcP0hQPYoXI/C9QdAcD0K16NwF0BSuB6F61EAQM3MzMzMDCNAcT0K16Nw9z97FK5H4XokQML1KFyPAixAMzMzMzNzNECkcD0K16MZQPYoXI/CdRdAZmZmZmamPEBwPQrXo7AlQM3MzMzMTCBA4XoUrkdhG0A=",
             "dtype": "f8"
            },
            "coloraxis": "coloraxis",
            "size": {
             "bdata": "4noUrkfhG0C4HoXrUTgcQB+F61G4Hi9ArkfhehRuNUAK16NwPQofQML1KFyPIjBACtejcD0KE0D2KFyPwvUZQEjhehSuhzlANDMzMzMTNkAK16NwPUouQChcj8L1aCVAPgrXo3A9DUA+CtejcP0hQPYoXI/C9QdAcD0K16NwF0BSuB6F61EAQM3MzMzMDCNAcT0K16Nw9z97FK5H4XokQML1KFyPAixAMzMzMzNzNECkcD0K16MZQPYoXI/CdRdAZmZmZmamPEBwPQrXo7AlQM3MzMzMTCBA4XoUrkdhG0A=",
             "dtype": "f8"
            },
            "sizemode": "area",
            "sizeref": 0.121,
            "symbol": "circle"
           },
           "mode": "markers",
           "name": "",
           "showlegend": false,
           "type": "scattergeo"
          }
         ],
         "name": "2020-03-31 00:00:00"
        },
        {
         "data": [
          {
           "geo": "geo",
           "hovertemplate": "<b>%{hovertext}</b><br><br>Date=2020-04-30 00:00:00<br>Estimated Unemployment Rate (%)=%{marker.color}<br>latitude=%{lat}<br>longitude=%{lon}<extra></extra>",
           "hovertext": [
            "Andhra Pradesh",
            "Assam",
            "Bihar",
            "Chhattisgarh",
            "Delhi",
            "Goa",
            "Gujarat",
            "Haryana",
            "Himachal Pradesh",
            "Jharkhand",
            "Karnataka",
            "Kerala",
            "Madhya Pradesh",
            "Maharashtra",
            "Meghalaya",
            "Odisha",
            "Puducherry",
            "Punjab",
            "Rajasthan",
            "Sikkim",
            "Tamil Nadu",
            "Telangana",
            "Tripura",
            "Uttar Pradesh",
            "Uttarakhand",
            "West Bengal"
           ],
           "lat": {
            "bdata": "bAn5oGfTL0Dek4eFWjM6QEYldQKaGDlALGUZ4lhHNUAVHcnlP7Q8QLdif9k9mS5A5WGh1jRPNkA7AU2EDQ89QO2ePCzUGj9A6gQ0ETacN0CmCkYldaIuQPp+arx0syVAKe0NvjD5NkCq8dJNYsAzQGQ730+NdzlAa5p3nKLzNEAAAAAAAAD4f9k9eVioJT9AEqW9wRcGO0CcxCCwcog7QKmkTkATQSZABhIUP8YcMkCpE9BE2PA3QPCFyVTB2DpAcF8HzhkRPkBbsb/snvw2QA==",
            "dtype": "f8"
           },
           "legendgroup": "",
           "lon": {
            "bdata": "j8L1KFzvU0CyLm6jATxXQCsYldQJVFVAM8SxLm53VEDD9Shcj0ZTQA4tsp3vh1JAxm00gLcIUkBoImx4egVTQBdIUPwYS1NAoImw4elRVUBSJ6CJsO1SQIV80LNZEVNAgy9MpgqqU0BSJ6CJsO1SQOXyH9Jv11ZA/Knx0k1GVUAAAAAAAAD4f0tZhjjW1VJAGXPXEvKNUkC4QILixyBWQIMvTKYKqlNABTQRNjzBU0AQejarPv9WQGrecYqOPFRABTQRNjzBU0AfhetRuPZVQA==",
            "dtype": "f8"
           },
           "marker": {
            "color": {
             "bdata": "61G4HoVLOEA9CtejcL0gQNijcD0K90lA4XoUrkchJECamZmZmZkyQOxRuB6FqytAuB6F61H4MkAAAAAAACBGQFK4HoXrUQNAzMzMzMzMSUCG61G4HiU9QFK4HoXrETBAcD0K16NwKEDD9ShcjyI0QIbrUbgexSlAPgrXo3B9NkAAAAAAAOhSQEjhehSuRwNApHA9CtfjN0AUrkfhehQHQI/C9Shcr0hAhetRuB4FHkDiehSuR6FDQK5H4XoUbjdA16NwPQrXIECamZmZmfkwQA==",
             "dtype": "f8"
            },
            "coloraxis": "coloraxis",
            "size": {
             "bdata": "61G4HoVLOEA9CtejcL0gQNijcD0K90lA4XoUrkchJECamZmZmZkyQOxRuB6FqytAuB6F61H4MkAAAAAAACBGQFK4HoXrUQNAzMzMzMzMSUCG61G4HiU9QFK4HoXrETBAcD0K16NwKEDD9ShcjyI0QIbrUbgexSlAPgrXo3B9NkAAAAAAAOhSQEjhehSuRwNApHA9CtfjN0AUrkfhehQHQI/C9Shcr0hAhetRuB4FHkDiehSuR6FDQK5H4XoUbjdA16NwPQrXIECamZmZmfkwQA==",
             "dtype": "f8"
            },
            "sizemode": "area",
            "sizeref": 0.121,
            "symbol": "circle"
           },
           "mode": "markers",
           "name": "",
           "showlegend": false,
           "type": "scattergeo"
          }
         ],
         "name": "2020-04-30 00:00:00"
        },
        {
         "data": [
          {
           "geo": "geo",
           "hovertemplate": "<b>%{hovertext}</b><br><br>Date=2020-05-31 00:00:00<br>Estimated Unemployment Rate (%)=%{marker.color}<br>latitude=%{lat}<br>longitude=%{lon}<extra></extra>",
           "hovertext": [
            "Andhra Pradesh",
            "Assam",
            "Bihar",
            "Chhattisgarh",
            "Delhi",
            "Goa",
            "Gujarat",
            "Haryana",
            "Himachal Pradesh",
            "Jammu & Kashmir",
            "Jharkhand",
            "Karnataka",
            "Kerala",
            "Madhya Pradesh",
            "Maharashtra",
            "Meghalaya",
            "Odisha",
            "Puducherry",
            "Punjab",
            "Rajasthan",
            "Sikkim",
            "Tamil Nadu",
            "Telangana",
            "Tripura",
            "Uttar Pradesh",
            "Uttarakhand",
            "West Bengal"
           ],
           "lat": {
            "bdata": "bAn5oGfTL0Dek4eFWjM6QEYldQKaGDlALGUZ4lhHNUAVHcnlP7Q8QLdif9k9mS5A5WGh1jRPNkA7AU2EDQ89QO2ePCzUGj9AAAAAAAAA+H/qBDQRNpw3QKYKRiV1oi5A+n5qvHSzJUAp7Q2+MPk2QKrx0k1iwDNAZDvfT413OUBrmnecovM0QAAAAAAAAPh/2T15WKglP0ASpb3BFwY7QJzEILByiDtAqaROQBNBJkAGEhQ/xhwyQKkT0ETY8DdA8IXJVMHYOkBwXwfOGRE+QFuxv+ye/DZA",
            "dtype": "f8"
           },
           "legendgroup": "",
           "lon": {
            "bdata": "j8L1KFzvU0CyLm6jATxXQCsYldQJVFVAM8SxLm53VEDD9Shcj0ZTQA4tsp3vh1JAxm00gLcIUkBoImx4egVTQBdIUPwYS1NAAAAAAAAA+H+gibDh6VFVQFInoImw7VJAhXzQs1kRU0CDL0ymCqpTQFInoImw7VJA5fIf0m/XVkD8qfHSTUZVQAAAAAAAAPh/S1mGONbVUkAZc9cS8o1SQLhAguLHIFZAgy9MpgqqU0AFNBE2PMFTQBB6Nqs+/1ZAat5xio48VEAFNBE2PMFTQB+F61G49lVA",
            "dtype": "f8"
           },
           "marker": {
            "color": {
             "bdata": "kML1KFyvM0BmZmZmZiYkQLgehetRSEVAPgrXo3C9L0DD9ShcjyJBQAAAAAAAADRAMzMzMzMzKkDsUbgehStCQClcj8L16EJAXY/C9ShcHkDiehSuR1FPQM3MzMzMzDNAFK5H4XrUOkCamZmZmXk/QEjhehSuZzBAj8L1KFxPIkAzMzMzM3MjQAAAAAAAwFJAcT0K16OQPkBmZmZmZuYxQAAAAAAAwDNA61G4HoUrQECF61G4HqVBQD4K16NwfS9AmpmZmZl5OECuR+F6FO4kQDMzMzMz0zBA",
             "dtype": "f8"
            },
            "coloraxis": "coloraxis",
            "size": {
             "bdata": "kML1KFyvM0BmZmZmZiYkQLgehetRSEVAPgrXo3C9L0DD9ShcjyJBQAAAAAAAADRAMzMzMzMzKkDsUbgehStCQClcj8L16EJAXY/C9ShcHkDiehSuR1FPQM3MzMzMzDNAFK5H4XrUOkCamZmZmXk/QEjhehSuZzBAj8L1KFxPIkAzMzMzM3MjQAAAAAAAwFJAcT0K16OQPkBmZmZmZuYxQAAAAAAAwDNA61G4HoUrQECF61G4HqVBQD4K16NwfS9AmpmZmZl5OECuR+F6FO4kQDMzMzMz0zBA",
             "dtype": "f8"
            },
            "sizemode": "area",
            "sizeref": 0.121,
            "symbol": "circle"
           },
           "mode": "markers",
           "name": "",
           "showlegend": false,
           "type": "scattergeo"
          }
         ],
         "name": "2020-05-31 00:00:00"
        },
        {
         "data": [
          {
           "geo": "geo",
           "hovertemplate": "<b>%{hovertext}</b><br><br>Date=2020-06-30 00:00:00<br>Estimated Unemployment Rate (%)=%{marker.color}<br>latitude=%{lat}<br>longitude=%{lon}<extra></extra>",
           "hovertext": [
            "Andhra Pradesh",
            "Assam",
            "Bihar",
            "Chandigarh",
            "Chhattisgarh",
            "Delhi",
            "Gujarat",
            "Haryana",
            "Himachal Pradesh",
            "Jammu & Kashmir",
            "Jharkhand",
            "Karnataka",
            "Kerala",
            "Madhya Pradesh",
            "Maharashtra",
            "Meghalaya",
            "Odisha",
            "Puducherry",
            "Punjab",
            "Rajasthan",
            "Sikkim",
            "Tamil Nadu",
            "Telangana",
            "Tripura",
            "Uttar Pradesh",
            "Uttarakhand",
            "West Bengal"
           ],
           "lat": {
            "bdata": "bAn5oGfTL0Dek4eFWjM6QEYldQKaGDlAJCh+jLm7PkAsZRniWEc1QBUdyeU/tDxA5WGh1jRPNkA7AU2EDQ89QO2ePCzUGj9AAAAAAAAA+H/qBDQRNpw3QKYKRiV1oi5A+n5qvHSzJUAp7Q2+MPk2QKrx0k1iwDNAZDvfT413OUBrmnecovM0QAAAAAAAAPh/2T15WKglP0ASpb3BFwY7QJzEILByiDtAqaROQBNBJkAGEhQ/xhwyQKkT0ETY8DdA8IXJVMHYOkBwXwfOGRE+QFuxv+ye/DZA",
            "dtype": "f8"
           },
           "legendgroup": "",
           "lon": {
            "bdata": "j8L1KFzvU0CyLm6jATxXQCsYldQJVFVAJ6CJsOExU0AzxLEubndUQMP1KFyPRlNAxm00gLcIUkBoImx4egVTQBdIUPwYS1NAAAAAAAAA+H+gibDh6VFVQFInoImw7VJAhXzQs1kRU0CDL0ymCqpTQFInoImw7VJA5fIf0m/XVkD8qfHSTUZVQAAAAAAAAPh/S1mGONbVUkAZc9cS8o1SQLhAguLHIFZAgy9MpgqqU0AFNBE2PMFTQBB6Nqs+/1ZAat5xio48VEAFNBE2PMFTQB+F61G49lVA",
            "dtype": "f8"
           },
           "marker": {
            "color": {
             "bdata": "16NwPQrXCkBcj8L1KFz7P7gehetReDBA4XoUrkfhHEB7FK5H4ZoyQAAAAAAAoDNAzczMzMzMB0AfhetRuD5AQFyPwvUo3BdAuB6F61H4MkAUrkfhenQ0QArXo3A9CiFACtejcD3qM0CuR+F6FC4jQClcj8L1aCNAmpmZmZmZ9T8UrkfhehQLQDMzMzMzMxJAzczMzMyMLkBmZmZmZuYqQOF6FK5H4RBAPQrXo3D9KkC4HoXrUTgqQEjhehSuJzdAkML1KFyPJUAVrkfhepQfQJqZmZmZmR1A",
             "dtype": "f8"
            },
            "coloraxis": "coloraxis",
            "size": {
             "bdata": "16NwPQrXCkBcj8L1KFz7P7gehetReDBA4XoUrkfhHEB7FK5H4ZoyQAAAAAAAoDNAzczMzMzMB0AfhetRuD5AQFyPwvUo3BdAuB6F61H4MkAUrkfhenQ0QArXo3A9CiFACtejcD3qM0CuR+F6FC4jQClcj8L1aCNAmpmZmZmZ9T8UrkfhehQLQDMzMzMzMxJAzczMzMyMLkBmZmZmZuYqQOF6FK5H4RBAPQrXo3D9KkC4HoXrUTgqQEjhehSuJzdAkML1KFyPJUAVrkfhepQfQJqZmZmZmR1A",
             "dtype": "f8"
            },
            "sizemode": "area",
            "sizeref": 0.121,
            "symbol": "circle"
           },
           "mode": "markers",
           "name": "",
           "showlegend": false,
           "type": "scattergeo"
          }
         ],
         "name": "2020-06-30 00:00:00"
        }
       ],
       "layout": {
        "coloraxis": {
         "colorbar": {
          "title": {
           "text": "Estimated Unemployment Rate (%)"
          }
         },
         "colorscale": [
          [
           0,
           "rgb(247,252,245)"
          ],
          [
           0.125,
           "rgb(229,245,224)"
          ],
          [
           0.25,
           "rgb(199,233,192)"
          ],
          [
           0.375,
           "rgb(161,217,155)"
          ],
          [
           0.5,
           "rgb(116,196,118)"
          ],
          [
           0.625,
           "rgb(65,171,93)"
          ],
          [
           0.75,
           "rgb(35,139,69)"
          ],
          [
           0.875,
           "rgb(0,109,44)"
          ],
          [
           1,
           "rgb(0,68,27)"
          ]
         ]
        },
        "geo": {
         "center": {},
         "domain": {
          "x": [
           0,
           1
          ],
          "y": [
           0,
           1
          ]
         },
         "fitbounds": "locations",
         "projection": {
          "type": "natural earth"
         },
         "scope": "asia",
         "visible": true
        },
        "legend": {
         "itemsizing": "constant",
         "tracegroupgap": 0
        },
        "margin": {
         "b": 0,
         "l": 0,
         "r": 0,
         "t": 50
        },
        "sliders": [
         {
          "active": 0,
          "currentvalue": {
           "prefix": "Date="
          },
          "len": 0.9,
          "pad": {
           "b": 10,
           "t": 60
          },
          "steps": [
           {
            "args": [
             [
              "2019-05-31 00:00:00"
             ],
             {
              "frame": {
               "duration": 0,
               "redraw": true
              },
              "fromcurrent": true,
              "mode": "immediate",
              "transition": {
               "duration": 0,
               "easing": "linear"
              }
             }
            ],
            "label": "2019-05-31 00:00:00",
            "method": "animate"
           },
           {
            "args": [
             [
              "2019-06-30 00:00:00"
             ],
             {
              "frame": {
               "duration": 0,
               "redraw": true
              },
              "fromcurrent": true,
              "mode": "immediate",
              "transition": {
               "duration": 0,
               "easing": "linear"
              }
             }
            ],
            "label": "2019-06-30 00:00:00",
            "method": "animate"
           },
           {
            "args": [
             [
              "2019-07-31 00:00:00"
             ],
             {
              "frame": {
               "duration": 0,
               "redraw": true
              },
              "fromcurrent": true,
              "mode": "immediate",
              "transition": {
               "duration": 0,
               "easing": "linear"
              }
             }
            ],
            "label": "2019-07-31 00:00:00",
            "method": "animate"
           },
           {
            "args": [
             [
              "2019-08-31 00:00:00"
             ],
             {
              "frame": {
               "duration": 0,
               "redraw": true
              },
              "fromcurrent": true,
              "mode": "immediate",
              "transition": {
               "duration": 0,
               "easing": "linear"
              }
             }
            ],
            "label": "2019-08-31 00:00:00",
            "method": "animate"
           },
           {
            "args": [
             [
              "2019-09-30 00:00:00"
             ],
             {
              "frame": {
               "duration": 0,
               "redraw": true
              },
              "fromcurrent": true,
              "mode": "immediate",
              "transition": {
               "duration": 0,
               "easing": "linear"
              }
             }
            ],
            "label": "2019-09-30 00:00:00",
            "method": "animate"
           },
           {
            "args": [
             [
              "2019-10-31 00:00:00"
             ],
             {
              "frame": {
               "duration": 0,
               "redraw": true
              },
              "fromcurrent": true,
              "mode": "immediate",
              "transition": {
               "duration": 0,
               "easing": "linear"
              }
             }
            ],
            "label": "2019-10-31 00:00:00",
            "method": "animate"
           },
           {
            "args": [
             [
              "2019-11-30 00:00:00"
             ],
             {
              "frame": {
               "duration": 0,
               "redraw": true
              },
              "fromcurrent": true,
              "mode": "immediate",
              "transition": {
               "duration": 0,
               "easing": "linear"
              }
             }
            ],
            "label": "2019-11-30 00:00:00",
            "method": "animate"
           },
           {
            "args": [
             [
              "2019-12-31 00:00:00"
             ],
             {
              "frame": {
               "duration": 0,
               "redraw": true
              },
              "fromcurrent": true,
              "mode": "immediate",
              "transition": {
               "duration": 0,
               "easing": "linear"
              }
             }
            ],
            "label": "2019-12-31 00:00:00",
            "method": "animate"
           },
           {
            "args": [
             [
              "2020-01-31 00:00:00"
             ],
             {
              "frame": {
               "duration": 0,
               "redraw": true
              },
              "fromcurrent": true,
              "mode": "immediate",
              "transition": {
               "duration": 0,
               "easing": "linear"
              }
             }
            ],
            "label": "2020-01-31 00:00:00",
            "method": "animate"
           },
           {
            "args": [
             [
              "2020-02-29 00:00:00"
             ],
             {
              "frame": {
               "duration": 0,
               "redraw": true
              },
              "fromcurrent": true,
              "mode": "immediate",
              "transition": {
               "duration": 0,
               "easing": "linear"
              }
             }
            ],
            "label": "2020-02-29 00:00:00",
            "method": "animate"
           },
           {
            "args": [
             [
              "2020-03-31 00:00:00"
             ],
             {
              "frame": {
               "duration": 0,
               "redraw": true
              },
              "fromcurrent": true,
              "mode": "immediate",
              "transition": {
               "duration": 0,
               "easing": "linear"
              }
             }
            ],
            "label": "2020-03-31 00:00:00",
            "method": "animate"
           },
           {
            "args": [
             [
              "2020-04-30 00:00:00"
             ],
             {
              "frame": {
               "duration": 0,
               "redraw": true
              },
              "fromcurrent": true,
              "mode": "immediate",
              "transition": {
               "duration": 0,
               "easing": "linear"
              }
             }
            ],
            "label": "2020-04-30 00:00:00",
            "method": "animate"
           },
           {
            "args": [
             [
              "2020-05-31 00:00:00"
             ],
             {
              "frame": {
               "duration": 0,
               "redraw": true
              },
              "fromcurrent": true,
              "mode": "immediate",
              "transition": {
               "duration": 0,
               "easing": "linear"
              }
             }
            ],
            "label": "2020-05-31 00:00:00",
            "method": "animate"
           },
           {
            "args": [
             [
              "2020-06-30 00:00:00"
             ],
             {
              "frame": {
               "duration": 0,
               "redraw": true
              },
              "fromcurrent": true,
              "mode": "immediate",
              "transition": {
               "duration": 0,
               "easing": "linear"
              }
             }
            ],
            "label": "2020-06-30 00:00:00",
            "method": "animate"
           }
          ],
          "x": 0.1,
          "xanchor": "left",
          "y": 0,
          "yanchor": "top"
         }
        ],
        "template": {
         "data": {
          "bar": [
           {
            "error_x": {
             "color": "#2a3f5f"
            },
            "error_y": {
             "color": "#2a3f5f"
            },
            "marker": {
             "line": {
              "color": "#E5ECF6",
              "width": 0.5
             },
             "pattern": {
              "fillmode": "overlay",
              "size": 10,
              "solidity": 0.2
             }
            },
            "type": "bar"
           }
          ],
          "barpolar": [
           {
            "marker": {
             "line": {
              "color": "#E5ECF6",
              "width": 0.5
             },
             "pattern": {
              "fillmode": "overlay",
              "size": 10,
              "solidity": 0.2
             }
            },
            "type": "barpolar"
           }
          ],
          "carpet": [
           {
            "aaxis": {
             "endlinecolor": "#2a3f5f",
             "gridcolor": "white",
             "linecolor": "white",
             "minorgridcolor": "white",
             "startlinecolor": "#2a3f5f"
            },
            "baxis": {
             "endlinecolor": "#2a3f5f",
             "gridcolor": "white",
             "linecolor": "white",
             "minorgridcolor": "white",
             "startlinecolor": "#2a3f5f"
            },
            "type": "carpet"
           }
          ],
          "choropleth": [
           {
            "colorbar": {
             "outlinewidth": 0,
             "ticks": ""
            },
            "type": "choropleth"
           }
          ],
          "contour": [
           {
            "colorbar": {
             "outlinewidth": 0,
             "ticks": ""
            },
            "colorscale": [
             [
              0,
              "#0d0887"
             ],
             [
              0.1111111111111111,
              "#46039f"
             ],
             [
              0.2222222222222222,
              "#7201a8"
             ],
             [
              0.3333333333333333,
              "#9c179e"
             ],
             [
              0.4444444444444444,
              "#bd3786"
             ],
             [
              0.5555555555555556,
              "#d8576b"
             ],
             [
              0.6666666666666666,
              "#ed7953"
             ],
             [
              0.7777777777777778,
              "#fb9f3a"
             ],
             [
              0.8888888888888888,
              "#fdca26"
             ],
             [
              1,
              "#f0f921"
             ]
            ],
            "type": "contour"
           }
          ],
          "contourcarpet": [
           {
            "colorbar": {
             "outlinewidth": 0,
             "ticks": ""
            },
            "type": "contourcarpet"
           }
          ],
          "heatmap": [
           {
            "colorbar": {
             "outlinewidth": 0,
             "ticks": ""
            },
            "colorscale": [
             [
              0,
              "#0d0887"
             ],
             [
              0.1111111111111111,
              "#46039f"
             ],
             [
              0.2222222222222222,
              "#7201a8"
             ],
             [
              0.3333333333333333,
              "#9c179e"
             ],
             [
              0.4444444444444444,
              "#bd3786"
             ],
             [
              0.5555555555555556,
              "#d8576b"
             ],
             [
              0.6666666666666666,
              "#ed7953"
             ],
             [
              0.7777777777777778,
              "#fb9f3a"
             ],
             [
              0.8888888888888888,
              "#fdca26"
             ],
             [
              1,
              "#f0f921"
             ]
            ],
            "type": "heatmap"
           }
          ],
          "histogram": [
           {
            "marker": {
             "pattern": {
              "fillmode": "overlay",
              "size": 10,
              "solidity": 0.2
             }
            },
            "type": "histogram"
           }
          ],
          "histogram2d": [
           {
            "colorbar": {
             "outlinewidth": 0,
             "ticks": ""
            },
            "colorscale": [
             [
              0,
              "#0d0887"
             ],
             [
              0.1111111111111111,
              "#46039f"
             ],
             [
              0.2222222222222222,
              "#7201a8"
             ],
             [
              0.3333333333333333,
              "#9c179e"
             ],
             [
              0.4444444444444444,
              "#bd3786"
             ],
             [
              0.5555555555555556,
              "#d8576b"
             ],
             [
              0.6666666666666666,
              "#ed7953"
             ],
             [
              0.7777777777777778,
              "#fb9f3a"
             ],
             [
              0.8888888888888888,
              "#fdca26"
             ],
             [
              1,
              "#f0f921"
             ]
            ],
            "type": "histogram2d"
           }
          ],
          "histogram2dcontour": [
           {
            "colorbar": {
             "outlinewidth": 0,
             "ticks": ""
            },
            "colorscale": [
             [
              0,
              "#0d0887"
             ],
             [
              0.1111111111111111,
              "#46039f"
             ],
             [
              0.2222222222222222,
              "#7201a8"
             ],
             [
              0.3333333333333333,
              "#9c179e"
             ],
             [
              0.4444444444444444,
              "#bd3786"
             ],
             [
              0.5555555555555556,
              "#d8576b"
             ],
             [
              0.6666666666666666,
              "#ed7953"
             ],
             [
              0.7777777777777778,
              "#fb9f3a"
             ],
             [
              0.8888888888888888,
              "#fdca26"
             ],
             [
              1,
              "#f0f921"
             ]
            ],
            "type": "histogram2dcontour"
           }
          ],
          "mesh3d": [
           {
            "colorbar": {
             "outlinewidth": 0,
             "ticks": ""
            },
            "type": "mesh3d"
           }
          ],
          "parcoords": [
           {
            "line": {
             "colorbar": {
              "outlinewidth": 0,
              "ticks": ""
             }
            },
            "type": "parcoords"
           }
          ],
          "pie": [
           {
            "automargin": true,
            "type": "pie"
           }
          ],
          "scatter": [
           {
            "fillpattern": {
             "fillmode": "overlay",
             "size": 10,
             "solidity": 0.2
            },
            "type": "scatter"
           }
          ],
          "scatter3d": [
           {
            "line": {
             "colorbar": {
              "outlinewidth": 0,
              "ticks": ""
             }
            },
            "marker": {
             "colorbar": {
              "outlinewidth": 0,
              "ticks": ""
             }
            },
            "type": "scatter3d"
           }
          ],
          "scattercarpet": [
           {
            "marker": {
             "colorbar": {
              "outlinewidth": 0,
              "ticks": ""
             }
            },
            "type": "scattercarpet"
           }
          ],
          "scattergeo": [
           {
            "marker": {
             "colorbar": {
              "outlinewidth": 0,
              "ticks": ""
             }
            },
            "type": "scattergeo"
           }
          ],
          "scattergl": [
           {
            "marker": {
             "colorbar": {
              "outlinewidth": 0,
              "ticks": ""
             }
            },
            "type": "scattergl"
           }
          ],
          "scattermap": [
           {
            "marker": {
             "colorbar": {
              "outlinewidth": 0,
              "ticks": ""
             }
            },
            "type": "scattermap"
           }
          ],
          "scattermapbox": [
           {
            "marker": {
             "colorbar": {
              "outlinewidth": 0,
              "ticks": ""
             }
            },
            "type": "scattermapbox"
           }
          ],
          "scatterpolar": [
           {
            "marker": {
             "colorbar": {
              "outlinewidth": 0,
              "ticks": ""
             }
            },
            "type": "scatterpolar"
           }
          ],
          "scatterpolargl": [
           {
            "marker": {
             "colorbar": {
              "outlinewidth": 0,
              "ticks": ""
             }
            },
            "type": "scatterpolargl"
           }
          ],
          "scatterternary": [
           {
            "marker": {
             "colorbar": {
              "outlinewidth": 0,
              "ticks": ""
             }
            },
            "type": "scatterternary"
           }
          ],
          "surface": [
           {
            "colorbar": {
             "outlinewidth": 0,
             "ticks": ""
            },
            "colorscale": [
             [
              0,
              "#0d0887"
             ],
             [
              0.1111111111111111,
              "#46039f"
             ],
             [
              0.2222222222222222,
              "#7201a8"
             ],
             [
              0.3333333333333333,
              "#9c179e"
             ],
             [
              0.4444444444444444,
              "#bd3786"
             ],
             [
              0.5555555555555556,
              "#d8576b"
             ],
             [
              0.6666666666666666,
              "#ed7953"
             ],
             [
              0.7777777777777778,
              "#fb9f3a"
             ],
             [
              0.8888888888888888,
              "#fdca26"
             ],
             [
              1,
              "#f0f921"
             ]
            ],
            "type": "surface"
           }
          ],
          "table": [
           {
            "cells": {
             "fill": {
              "color": "#EBF0F8"
             },
             "line": {
              "color": "white"
             }
            },
            "header": {
             "fill": {
              "color": "#C8D4E3"
             },
             "line": {
              "color": "white"
             }
            },
            "type": "table"
           }
          ]
         },
         "layout": {
          "annotationdefaults": {
           "arrowcolor": "#2a3f5f",
           "arrowhead": 0,
           "arrowwidth": 1
          },
          "autotypenumbers": "strict",
          "coloraxis": {
           "colorbar": {
            "outlinewidth": 0,
            "ticks": ""
           }
          },
          "colorscale": {
           "diverging": [
            [
             0,
             "#8e0152"
            ],
            [
             0.1,
             "#c51b7d"
            ],
            [
             0.2,
             "#de77ae"
            ],
            [
             0.3,
             "#f1b6da"
            ],
            [
             0.4,
             "#fde0ef"
            ],
            [
             0.5,
             "#f7f7f7"
            ],
            [
             0.6,
             "#e6f5d0"
            ],
            [
             0.7,
             "#b8e186"
            ],
            [
             0.8,
             "#7fbc41"
            ],
            [
             0.9,
             "#4d9221"
            ],
            [
             1,
             "#276419"
            ]
           ],
           "sequential": [
            [
             0,
             "#0d0887"
            ],
            [
             0.1111111111111111,
             "#46039f"
            ],
            [
             0.2222222222222222,
             "#7201a8"
            ],
            [
             0.3333333333333333,
             "#9c179e"
            ],
            [
             0.4444444444444444,
             "#bd3786"
            ],
            [
             0.5555555555555556,
             "#d8576b"
            ],
            [
             0.6666666666666666,
             "#ed7953"
            ],
            [
             0.7777777777777778,
             "#fb9f3a"
            ],
            [
             0.8888888888888888,
             "#fdca26"
            ],
            [
             1,
             "#f0f921"
            ]
           ],
           "sequentialminus": [
            [
             0,
             "#0d0887"
            ],
            [
             0.1111111111111111,
             "#46039f"
            ],
            [
             0.2222222222222222,
             "#7201a8"
            ],
            [
             0.3333333333333333,
             "#9c179e"
            ],
            [
             0.4444444444444444,
             "#bd3786"
            ],
            [
             0.5555555555555556,
             "#d8576b"
            ],
            [
             0.6666666666666666,
             "#ed7953"
            ],
            [
             0.7777777777777778,
             "#fb9f3a"
            ],
            [
             0.8888888888888888,
             "#fdca26"
            ],
            [
             1,
             "#f0f921"
            ]
           ]
          },
          "colorway": [
           "#636efa",
           "#EF553B",
           "#00cc96",
           "#ab63fa",
           "#FFA15A",
           "#19d3f3",
           "#FF6692",
           "#B6E880",
           "#FF97FF",
           "#FECB52"
          ],
          "font": {
           "color": "#2a3f5f"
          },
          "geo": {
           "bgcolor": "white",
           "lakecolor": "white",
           "landcolor": "#E5ECF6",
           "showlakes": true,
           "showland": true,
           "subunitcolor": "white"
          },
          "hoverlabel": {
           "align": "left"
          },
          "hovermode": "closest",
          "mapbox": {
           "style": "light"
          },
          "paper_bgcolor": "white",
          "plot_bgcolor": "#E5ECF6",
          "polar": {
           "angularaxis": {
            "gridcolor": "white",
            "linecolor": "white",
            "ticks": ""
           },
           "bgcolor": "#E5ECF6",
           "radialaxis": {
            "gridcolor": "white",
            "linecolor": "white",
            "ticks": ""
           }
          },
          "scene": {
           "xaxis": {
            "backgroundcolor": "#E5ECF6",
            "gridcolor": "white",
            "gridwidth": 2,
            "linecolor": "white",
            "showbackground": true,
            "ticks": "",
            "zerolinecolor": "white"
           },
           "yaxis": {
            "backgroundcolor": "#E5ECF6",
            "gridcolor": "white",
            "gridwidth": 2,
            "linecolor": "white",
            "showbackground": true,
            "ticks": "",
            "zerolinecolor": "white"
           },
           "zaxis": {
            "backgroundcolor": "#E5ECF6",
            "gridcolor": "white",
            "gridwidth": 2,
            "linecolor": "white",
            "showbackground": true,
            "ticks": "",
            "zerolinecolor": "white"
           }
          },
          "shapedefaults": {
           "line": {
            "color": "#2a3f5f"
           }
          },
          "ternary": {
           "aaxis": {
            "gridcolor": "white",
            "linecolor": "white",
            "ticks": ""
           },
           "baxis": {
            "gridcolor": "white",
            "linecolor": "white",
            "ticks": ""
           },
           "bgcolor": "#E5ECF6",
           "caxis": {
            "gridcolor": "white",
            "linecolor": "white",
            "ticks": ""
           }
          },
          "title": {
           "x": 0.05
          },
          "xaxis": {
           "automargin": true,
           "gridcolor": "white",
           "linecolor": "white",
           "ticks": "",
           "title": {
            "standoff": 15
           },
           "zerolinecolor": "white",
           "zerolinewidth": 2
          },
          "yaxis": {
           "automargin": true,
           "gridcolor": "white",
           "linecolor": "white",
           "ticks": "",
           "title": {
            "standoff": 15
           },
           "zerolinecolor": "white",
           "zerolinewidth": 2
          }
         }
        },
        "title": {
         "text": "Unemployment Rate Animation (Monthly)"
        },
        "updatemenus": [
         {
          "buttons": [
           {
            "args": [
             null,
             {
              "frame": {
               "duration": 500,
               "redraw": true
              },
              "fromcurrent": true,
              "mode": "immediate",
              "transition": {
               "duration": 500,
               "easing": "linear"
              }
             }
            ],
            "label": "&#9654;",
            "method": "animate"
           },
           {
            "args": [
             [
              null
             ],
             {
              "frame": {
               "duration": 0,
               "redraw": true
              },
              "fromcurrent": true,
              "mode": "immediate",
              "transition": {
               "duration": 0,
               "easing": "linear"
              }
             }
            ],
            "label": "&#9724;",
            "method": "animate"
           }
          ],
          "direction": "left",
          "pad": {
           "r": 10,
           "t": 70
          },
          "showactive": false,
          "type": "buttons",
          "x": 0.1,
          "xanchor": "right",
          "y": 0,
          "yanchor": "top"
         }
        ]
       }
      }
     },
     "metadata": {},
     "output_type": "display_data"
    }
   ],
   "source": [
    "# Group by Region + Date\n",
    "time_df = unemployment_df.groupby(['Date', 'Region'])['Estimated Unemployment Rate (%)'].mean().reset_index()\n",
    "time_df = pd.merge(time_df, coordinates_df, on='Region', how='left')\n",
    "\n",
    "# Plotly animated map\n",
    "fig = px.scatter_geo(\n",
    "    time_df,\n",
    "    lat='latitude',\n",
    "    lon='longitude',\n",
    "    color='Estimated Unemployment Rate (%)',\n",
    "    size='Estimated Unemployment Rate (%)',\n",
    "    hover_name='Region',\n",
    "    animation_frame='Date',\n",
    "    color_continuous_scale='Greens',\n",
    "    projection='natural earth',\n",
    "    scope='asia',\n",
    "    title='Unemployment Rate Animation (Monthly)',\n",
    "    size_max=25\n",
    ")\n",
    "\n",
    "fig.update_geos(fitbounds=\"locations\", visible=True)\n",
    "fig.update_layout(margin={\"r\":0,\"t\":50,\"l\":0,\"b\":0})\n",
    "fig.show()\n"
   ]
  },
  {
   "cell_type": "code",
   "execution_count": 73,
   "metadata": {},
   "outputs": [
    {
     "data": {
      "application/vnd.plotly.v1+json": {
       "config": {
        "plotlyServerURL": "https://plot.ly"
       },
       "data": [
        {
         "geo": "geo",
         "hovertemplate": "<b>%{hovertext}</b><br><br>Estimated Unemployment Rate (%)=%{marker.size}<br>Region=%{text}<br>latitude=%{lat}<br>longitude=%{lon}<br>Estimated Labour Participation Rate (%)=%{marker.color}<extra></extra>",
         "hovertext": [
          "Andhra Pradesh",
          "Assam",
          "Bihar",
          "Chandigarh",
          "Chhattisgarh",
          "Delhi",
          "Goa",
          "Gujarat",
          "Haryana",
          "Himachal Pradesh",
          "Jammu & Kashmir",
          "Jharkhand",
          "Karnataka",
          "Kerala",
          "Madhya Pradesh",
          "Maharashtra",
          "Meghalaya",
          "Odisha",
          "Puducherry",
          "Punjab",
          "Rajasthan",
          "Sikkim",
          "Tamil Nadu",
          "Telangana",
          "Tripura",
          "Uttar Pradesh",
          "Uttarakhand",
          "West Bengal"
         ],
         "lat": {
          "bdata": "bAn5oGfTL0Dek4eFWjM6QEYldQKaGDlAJCh+jLm7PkAsZRniWEc1QBUdyeU/tDxAt2J/2T2ZLkDlYaHWNE82QDsBTYQNDz1A7Z48LNQaP0AAAAAAAAD4f+oENBE2nDdApgpGJXWiLkD6fmq8dLMlQCntDb4w+TZAqvHSTWLAM0BkO99PjXc5QGuad5yi8zRAAAAAAAAA+H/ZPXlYqCU/QBKlvcEXBjtAnMQgsHKIO0CppE5AE0EmQAYSFD/GHDJAqRPQRNjwN0DwhclUwdg6QHBfB84ZET5AW7G/7J78NkA=",
          "dtype": "f8"
         },
         "legendgroup": "",
         "lon": {
          "bdata": "j8L1KFzvU0CyLm6jATxXQCsYldQJVFVAJ6CJsOExU0AzxLEubndUQMP1KFyPRlNADi2yne+HUkDGbTSAtwhSQGgibHh6BVNAF0hQ/BhLU0AAAAAAAAD4f6CJsOHpUVVAUiegibDtUkCFfNCzWRFTQIMvTKYKqlNAUiegibDtUkDl8h/Sb9dWQPyp8dJNRlVAAAAAAAAA+H9LWYY41tVSQBlz1xLyjVJAuECC4scgVkCDL0ymCqpTQAU0ETY8wVNAEHo2qz7/VkBq3nGKjjxUQAU0ETY8wVNAH4XrUbj2VUA=",
          "dtype": "f8"
         },
         "marker": {
          "color": {
           "bdata": "NeTcZxewQ0BZw2i/KW9GQFUacu6zE0NAS36x5BerQ0B9xVd8xWdFQL0xgon+dkNAjCW/WPKfQ0AbI5jo7wxHQE30d7JaXkVA+jtZLW8cRkA/9mM/9oNEQCoNOffZ1URAdwGxqTSsREDxFV/xFW9BQJIkSZIkaUNAU2nIuc8mRUDZd2y2VYpMQNAuIDaVdkNAvkOiihB/Q0DOfXYBsZFEQEmSJEmS/ENAKVyPwvUIR0Aub4xgom9EQLgehetRgEpASkPOfXbpTkCQwvUoXLdDQM6riWdF40BAPgrXo3C1RkA=",
           "dtype": "f8"
          },
          "coloraxis": "coloraxis",
          "size": {
           "bdata": "VssbI5joHUCZJgPMWbYZQOXcZxcQ6zJAvLu7u7v7L0Dl3GcXEHsiQFNpyLnPfjBALPnFkl+MIkCxqTTk3KcaQCHnPruASDpAP7uA2FSKMkCerJY3RjAwQPYoXI/ClTRAq+WNEUy0GkDDptKQcz8kQGnIuc8uoB1AexSuR+E6HkCHqcvtDzITQLMLiE2loRZAr0fhehRuJEDLGyOY6A8oQBCbSkPOHSxA/5gyzGX/HEB/J6vljZEiQAbEptKQ8x5Azn12AbFZPEA/u4DYVBopQBzSMj70VBpAlzdGMNE/IEA=",
           "dtype": "f8"
          },
          "sizemode": "area",
          "sizeref": 0.045360571428571424,
          "symbol": "circle"
         },
         "mode": "markers+text",
         "name": "",
         "showlegend": false,
         "text": [
          "Andhra Pradesh",
          "Assam",
          "Bihar",
          "Chandigarh",
          "Chhattisgarh",
          "Delhi",
          "Goa",
          "Gujarat",
          "Haryana",
          "Himachal Pradesh",
          "Jammu & Kashmir",
          "Jharkhand",
          "Karnataka",
          "Kerala",
          "Madhya Pradesh",
          "Maharashtra",
          "Meghalaya",
          "Odisha",
          "Puducherry",
          "Punjab",
          "Rajasthan",
          "Sikkim",
          "Tamil Nadu",
          "Telangana",
          "Tripura",
          "Uttar Pradesh",
          "Uttarakhand",
          "West Bengal"
         ],
         "type": "scattergeo"
        }
       ],
       "layout": {
        "coloraxis": {
         "colorbar": {
          "title": {
           "text": "Estimated Labour Participation Rate (%)"
          }
         },
         "colorscale": [
          [
           0,
           "rgb(247,251,255)"
          ],
          [
           0.125,
           "rgb(222,235,247)"
          ],
          [
           0.25,
           "rgb(198,219,239)"
          ],
          [
           0.375,
           "rgb(158,202,225)"
          ],
          [
           0.5,
           "rgb(107,174,214)"
          ],
          [
           0.625,
           "rgb(66,146,198)"
          ],
          [
           0.75,
           "rgb(33,113,181)"
          ],
          [
           0.875,
           "rgb(8,81,156)"
          ],
          [
           1,
           "rgb(8,48,107)"
          ]
         ]
        },
        "geo": {
         "center": {},
         "domain": {
          "x": [
           0,
           1
          ],
          "y": [
           0,
           1
          ]
         },
         "fitbounds": "locations",
         "projection": {
          "type": "natural earth"
         },
         "scope": "asia",
         "visible": true
        },
        "legend": {
         "itemsizing": "constant",
         "tracegroupgap": 0
        },
        "margin": {
         "b": 0,
         "l": 0,
         "r": 0,
         "t": 50
        },
        "template": {
         "data": {
          "bar": [
           {
            "error_x": {
             "color": "#2a3f5f"
            },
            "error_y": {
             "color": "#2a3f5f"
            },
            "marker": {
             "line": {
              "color": "#E5ECF6",
              "width": 0.5
             },
             "pattern": {
              "fillmode": "overlay",
              "size": 10,
              "solidity": 0.2
             }
            },
            "type": "bar"
           }
          ],
          "barpolar": [
           {
            "marker": {
             "line": {
              "color": "#E5ECF6",
              "width": 0.5
             },
             "pattern": {
              "fillmode": "overlay",
              "size": 10,
              "solidity": 0.2
             }
            },
            "type": "barpolar"
           }
          ],
          "carpet": [
           {
            "aaxis": {
             "endlinecolor": "#2a3f5f",
             "gridcolor": "white",
             "linecolor": "white",
             "minorgridcolor": "white",
             "startlinecolor": "#2a3f5f"
            },
            "baxis": {
             "endlinecolor": "#2a3f5f",
             "gridcolor": "white",
             "linecolor": "white",
             "minorgridcolor": "white",
             "startlinecolor": "#2a3f5f"
            },
            "type": "carpet"
           }
          ],
          "choropleth": [
           {
            "colorbar": {
             "outlinewidth": 0,
             "ticks": ""
            },
            "type": "choropleth"
           }
          ],
          "contour": [
           {
            "colorbar": {
             "outlinewidth": 0,
             "ticks": ""
            },
            "colorscale": [
             [
              0,
              "#0d0887"
             ],
             [
              0.1111111111111111,
              "#46039f"
             ],
             [
              0.2222222222222222,
              "#7201a8"
             ],
             [
              0.3333333333333333,
              "#9c179e"
             ],
             [
              0.4444444444444444,
              "#bd3786"
             ],
             [
              0.5555555555555556,
              "#d8576b"
             ],
             [
              0.6666666666666666,
              "#ed7953"
             ],
             [
              0.7777777777777778,
              "#fb9f3a"
             ],
             [
              0.8888888888888888,
              "#fdca26"
             ],
             [
              1,
              "#f0f921"
             ]
            ],
            "type": "contour"
           }
          ],
          "contourcarpet": [
           {
            "colorbar": {
             "outlinewidth": 0,
             "ticks": ""
            },
            "type": "contourcarpet"
           }
          ],
          "heatmap": [
           {
            "colorbar": {
             "outlinewidth": 0,
             "ticks": ""
            },
            "colorscale": [
             [
              0,
              "#0d0887"
             ],
             [
              0.1111111111111111,
              "#46039f"
             ],
             [
              0.2222222222222222,
              "#7201a8"
             ],
             [
              0.3333333333333333,
              "#9c179e"
             ],
             [
              0.4444444444444444,
              "#bd3786"
             ],
             [
              0.5555555555555556,
              "#d8576b"
             ],
             [
              0.6666666666666666,
              "#ed7953"
             ],
             [
              0.7777777777777778,
              "#fb9f3a"
             ],
             [
              0.8888888888888888,
              "#fdca26"
             ],
             [
              1,
              "#f0f921"
             ]
            ],
            "type": "heatmap"
           }
          ],
          "histogram": [
           {
            "marker": {
             "pattern": {
              "fillmode": "overlay",
              "size": 10,
              "solidity": 0.2
             }
            },
            "type": "histogram"
           }
          ],
          "histogram2d": [
           {
            "colorbar": {
             "outlinewidth": 0,
             "ticks": ""
            },
            "colorscale": [
             [
              0,
              "#0d0887"
             ],
             [
              0.1111111111111111,
              "#46039f"
             ],
             [
              0.2222222222222222,
              "#7201a8"
             ],
             [
              0.3333333333333333,
              "#9c179e"
             ],
             [
              0.4444444444444444,
              "#bd3786"
             ],
             [
              0.5555555555555556,
              "#d8576b"
             ],
             [
              0.6666666666666666,
              "#ed7953"
             ],
             [
              0.7777777777777778,
              "#fb9f3a"
             ],
             [
              0.8888888888888888,
              "#fdca26"
             ],
             [
              1,
              "#f0f921"
             ]
            ],
            "type": "histogram2d"
           }
          ],
          "histogram2dcontour": [
           {
            "colorbar": {
             "outlinewidth": 0,
             "ticks": ""
            },
            "colorscale": [
             [
              0,
              "#0d0887"
             ],
             [
              0.1111111111111111,
              "#46039f"
             ],
             [
              0.2222222222222222,
              "#7201a8"
             ],
             [
              0.3333333333333333,
              "#9c179e"
             ],
             [
              0.4444444444444444,
              "#bd3786"
             ],
             [
              0.5555555555555556,
              "#d8576b"
             ],
             [
              0.6666666666666666,
              "#ed7953"
             ],
             [
              0.7777777777777778,
              "#fb9f3a"
             ],
             [
              0.8888888888888888,
              "#fdca26"
             ],
             [
              1,
              "#f0f921"
             ]
            ],
            "type": "histogram2dcontour"
           }
          ],
          "mesh3d": [
           {
            "colorbar": {
             "outlinewidth": 0,
             "ticks": ""
            },
            "type": "mesh3d"
           }
          ],
          "parcoords": [
           {
            "line": {
             "colorbar": {
              "outlinewidth": 0,
              "ticks": ""
             }
            },
            "type": "parcoords"
           }
          ],
          "pie": [
           {
            "automargin": true,
            "type": "pie"
           }
          ],
          "scatter": [
           {
            "fillpattern": {
             "fillmode": "overlay",
             "size": 10,
             "solidity": 0.2
            },
            "type": "scatter"
           }
          ],
          "scatter3d": [
           {
            "line": {
             "colorbar": {
              "outlinewidth": 0,
              "ticks": ""
             }
            },
            "marker": {
             "colorbar": {
              "outlinewidth": 0,
              "ticks": ""
             }
            },
            "type": "scatter3d"
           }
          ],
          "scattercarpet": [
           {
            "marker": {
             "colorbar": {
              "outlinewidth": 0,
              "ticks": ""
             }
            },
            "type": "scattercarpet"
           }
          ],
          "scattergeo": [
           {
            "marker": {
             "colorbar": {
              "outlinewidth": 0,
              "ticks": ""
             }
            },
            "type": "scattergeo"
           }
          ],
          "scattergl": [
           {
            "marker": {
             "colorbar": {
              "outlinewidth": 0,
              "ticks": ""
             }
            },
            "type": "scattergl"
           }
          ],
          "scattermap": [
           {
            "marker": {
             "colorbar": {
              "outlinewidth": 0,
              "ticks": ""
             }
            },
            "type": "scattermap"
           }
          ],
          "scattermapbox": [
           {
            "marker": {
             "colorbar": {
              "outlinewidth": 0,
              "ticks": ""
             }
            },
            "type": "scattermapbox"
           }
          ],
          "scatterpolar": [
           {
            "marker": {
             "colorbar": {
              "outlinewidth": 0,
              "ticks": ""
             }
            },
            "type": "scatterpolar"
           }
          ],
          "scatterpolargl": [
           {
            "marker": {
             "colorbar": {
              "outlinewidth": 0,
              "ticks": ""
             }
            },
            "type": "scatterpolargl"
           }
          ],
          "scatterternary": [
           {
            "marker": {
             "colorbar": {
              "outlinewidth": 0,
              "ticks": ""
             }
            },
            "type": "scatterternary"
           }
          ],
          "surface": [
           {
            "colorbar": {
             "outlinewidth": 0,
             "ticks": ""
            },
            "colorscale": [
             [
              0,
              "#0d0887"
             ],
             [
              0.1111111111111111,
              "#46039f"
             ],
             [
              0.2222222222222222,
              "#7201a8"
             ],
             [
              0.3333333333333333,
              "#9c179e"
             ],
             [
              0.4444444444444444,
              "#bd3786"
             ],
             [
              0.5555555555555556,
              "#d8576b"
             ],
             [
              0.6666666666666666,
              "#ed7953"
             ],
             [
              0.7777777777777778,
              "#fb9f3a"
             ],
             [
              0.8888888888888888,
              "#fdca26"
             ],
             [
              1,
              "#f0f921"
             ]
            ],
            "type": "surface"
           }
          ],
          "table": [
           {
            "cells": {
             "fill": {
              "color": "#EBF0F8"
             },
             "line": {
              "color": "white"
             }
            },
            "header": {
             "fill": {
              "color": "#C8D4E3"
             },
             "line": {
              "color": "white"
             }
            },
            "type": "table"
           }
          ]
         },
         "layout": {
          "annotationdefaults": {
           "arrowcolor": "#2a3f5f",
           "arrowhead": 0,
           "arrowwidth": 1
          },
          "autotypenumbers": "strict",
          "coloraxis": {
           "colorbar": {
            "outlinewidth": 0,
            "ticks": ""
           }
          },
          "colorscale": {
           "diverging": [
            [
             0,
             "#8e0152"
            ],
            [
             0.1,
             "#c51b7d"
            ],
            [
             0.2,
             "#de77ae"
            ],
            [
             0.3,
             "#f1b6da"
            ],
            [
             0.4,
             "#fde0ef"
            ],
            [
             0.5,
             "#f7f7f7"
            ],
            [
             0.6,
             "#e6f5d0"
            ],
            [
             0.7,
             "#b8e186"
            ],
            [
             0.8,
             "#7fbc41"
            ],
            [
             0.9,
             "#4d9221"
            ],
            [
             1,
             "#276419"
            ]
           ],
           "sequential": [
            [
             0,
             "#0d0887"
            ],
            [
             0.1111111111111111,
             "#46039f"
            ],
            [
             0.2222222222222222,
             "#7201a8"
            ],
            [
             0.3333333333333333,
             "#9c179e"
            ],
            [
             0.4444444444444444,
             "#bd3786"
            ],
            [
             0.5555555555555556,
             "#d8576b"
            ],
            [
             0.6666666666666666,
             "#ed7953"
            ],
            [
             0.7777777777777778,
             "#fb9f3a"
            ],
            [
             0.8888888888888888,
             "#fdca26"
            ],
            [
             1,
             "#f0f921"
            ]
           ],
           "sequentialminus": [
            [
             0,
             "#0d0887"
            ],
            [
             0.1111111111111111,
             "#46039f"
            ],
            [
             0.2222222222222222,
             "#7201a8"
            ],
            [
             0.3333333333333333,
             "#9c179e"
            ],
            [
             0.4444444444444444,
             "#bd3786"
            ],
            [
             0.5555555555555556,
             "#d8576b"
            ],
            [
             0.6666666666666666,
             "#ed7953"
            ],
            [
             0.7777777777777778,
             "#fb9f3a"
            ],
            [
             0.8888888888888888,
             "#fdca26"
            ],
            [
             1,
             "#f0f921"
            ]
           ]
          },
          "colorway": [
           "#636efa",
           "#EF553B",
           "#00cc96",
           "#ab63fa",
           "#FFA15A",
           "#19d3f3",
           "#FF6692",
           "#B6E880",
           "#FF97FF",
           "#FECB52"
          ],
          "font": {
           "color": "#2a3f5f"
          },
          "geo": {
           "bgcolor": "white",
           "lakecolor": "white",
           "landcolor": "#E5ECF6",
           "showlakes": true,
           "showland": true,
           "subunitcolor": "white"
          },
          "hoverlabel": {
           "align": "left"
          },
          "hovermode": "closest",
          "mapbox": {
           "style": "light"
          },
          "paper_bgcolor": "white",
          "plot_bgcolor": "#E5ECF6",
          "polar": {
           "angularaxis": {
            "gridcolor": "white",
            "linecolor": "white",
            "ticks": ""
           },
           "bgcolor": "#E5ECF6",
           "radialaxis": {
            "gridcolor": "white",
            "linecolor": "white",
            "ticks": ""
           }
          },
          "scene": {
           "xaxis": {
            "backgroundcolor": "#E5ECF6",
            "gridcolor": "white",
            "gridwidth": 2,
            "linecolor": "white",
            "showbackground": true,
            "ticks": "",
            "zerolinecolor": "white"
           },
           "yaxis": {
            "backgroundcolor": "#E5ECF6",
            "gridcolor": "white",
            "gridwidth": 2,
            "linecolor": "white",
            "showbackground": true,
            "ticks": "",
            "zerolinecolor": "white"
           },
           "zaxis": {
            "backgroundcolor": "#E5ECF6",
            "gridcolor": "white",
            "gridwidth": 2,
            "linecolor": "white",
            "showbackground": true,
            "ticks": "",
            "zerolinecolor": "white"
           }
          },
          "shapedefaults": {
           "line": {
            "color": "#2a3f5f"
           }
          },
          "ternary": {
           "aaxis": {
            "gridcolor": "white",
            "linecolor": "white",
            "ticks": ""
           },
           "baxis": {
            "gridcolor": "white",
            "linecolor": "white",
            "ticks": ""
           },
           "bgcolor": "#E5ECF6",
           "caxis": {
            "gridcolor": "white",
            "linecolor": "white",
            "ticks": ""
           }
          },
          "title": {
           "x": 0.05
          },
          "xaxis": {
           "automargin": true,
           "gridcolor": "white",
           "linecolor": "white",
           "ticks": "",
           "title": {
            "standoff": 15
           },
           "zerolinecolor": "white",
           "zerolinewidth": 2
          },
          "yaxis": {
           "automargin": true,
           "gridcolor": "white",
           "linecolor": "white",
           "ticks": "",
           "title": {
            "standoff": 15
           },
           "zerolinecolor": "white",
           "zerolinewidth": 2
          }
         }
        },
        "title": {
         "text": "Unemployment (Size) vs Labour Participation (Color)"
        }
       }
      }
     },
     "metadata": {},
     "output_type": "display_data"
    }
   ],
   "source": [
    "# Group by Region and calculating mean for both indicators\n",
    "region_avg = unemployment_df.groupby('Region')[['Estimated Unemployment Rate (%)', 'Estimated Labour Participation Rate (%)']].mean().reset_index()\n",
    "\n",
    "# Merge with coordinates\n",
    "map_df2 = pd.merge(region_avg, coordinates_df, on='Region', how='left')\n",
    "\n",
    "# Ploting\n",
    "fig = px.scatter_geo(\n",
    "    map_df2,\n",
    "    lat='latitude',\n",
    "    lon='longitude',\n",
    "    text='Region',\n",
    "    size='Estimated Unemployment Rate (%)',\n",
    "    color='Estimated Labour Participation Rate (%)',  # now this column exists!\n",
    "    color_continuous_scale='Blues',\n",
    "    title='Unemployment (Size) vs Labour Participation (Color)',\n",
    "    scope='asia',\n",
    "    projection='natural earth',\n",
    "    hover_name='Region',\n",
    "    size_max=25,\n",
    ")\n",
    "\n",
    "fig.update_geos(fitbounds=\"locations\", visible=True)\n",
    "fig.update_layout(margin={\"r\":0,\"t\":50,\"l\":0,\"b\":0})\n",
    "fig.show()\n"
   ]
  },
  {
   "cell_type": "markdown",
   "metadata": {},
   "source": [
    "# FINAL INSIGHTS AND RECOMMENDATIONS\n",
    "\n",
    "After analyzing the unemployment data for 2019 and 2020 across various regions in India, the following key insights were observed:\n",
    "\n",
    "# Key Insights:\n",
    "\n",
    "1. Unemployment Spiked in 2020  \n",
    "   - April and May 2020 showed a sudden rise in unemployment, clearly due to the nationwide Covid-19 lockdown.\n",
    "   - Several regions crossed unemployment rates of 20–25% during that period.\n",
    "\n",
    "2. Certain Regions Were More Affected  \n",
    "   - States like Tripura, Haryana, and Jharkhand consistently showed higher average unemployment.\n",
    "   - These regions may need special employment schemes or industrial development support.\n",
    "\n",
    "3. Seasonal Trends Are Visible  \n",
    "   - Unemployment rates tend to peak during mid-year (summer months), possibly due to reduced rural/agricultural activity.\n",
    "   - Lower unemployment was seen towards the end of the year (festive/harvest seasons).\n",
    "\n",
    "4. Mapping Insights :\n",
    "\n",
    "   1. Average Unemployment Rate in Indian States (2019–2020)\n",
    "   The first map **‘Average Unemployment Rate in Indian States (2019–2020)’** revealed that:\n",
    "   - States like **Tripura, Haryana, and Bihar** consistently showed **high unemployment rates**.\n",
    "   - Southern states like **Karnataka, Tamil Nadu, and Andhra Pradesh** showed relatively lower rates.\n",
    "\n",
    "   2. Unemployment Rate Animation (Monthly)\n",
    "   The animated map highlighted:\n",
    "   - A **sudden spike in unemployment during early 2020**, correlating with **Covid-19 lockdowns**.\n",
    "   - Some states faced **sharp monthly fluctuations**, indicating **economic instability** and dependence on informal jobs.\n",
    "\n",
    "   3. Unemployment vs Labour Participation\n",
    "   The third map presented a dual-indicator view:\n",
    "   - **Larger bubbles with darker color** indicated states with **high unemployment and high labour force engagement**, suggesting **ineffective absorption of workforce**.\n",
    "   - States with **low labour participation and high unemployment** may require **both skill development and employment generation programs**.\n",
    "\n",
    "---\n",
    "\n",
    "# Policy Recommendations:\n",
    "\n",
    "1. Emergency Support During Crisis Months  \n",
    "   - Provide job support or temporary income schemes during April–June, especially during crises like pandemics.\n",
    "\n",
    "2. Skill Development Programs  \n",
    "   - Launch region-specific skill training in high-unemployment states to improve employability.\n",
    "\n",
    "3. Seasonal Job Schemes  \n",
    "   - Plan employment programs (like MGNREGA or state job fairs) **just before peak unemployment months**, so citizens have opportunities ready.\n",
    "\n",
    "4. Remote Work & Digital Jobs  \n",
    "   - Promote remote/digital employment, especially in urban areas, to reduce impact during future lockdowns or economic disruptions.\n",
    "\n",
    "\n",
    "---\n",
    "\n",
    "### Conclusion:\n",
    "This analysis highlights how data can guide decision-making. By tracking unemployment trends closely, the government and policymakers can design better, **targeted interventions** to support the economy and protect the workforce.\n"
   ]
  }
 ],
 "metadata": {
  "kernelspec": {
   "display_name": "Python 3",
   "language": "python",
   "name": "python3"
  },
  "language_info": {
   "codemirror_mode": {
    "name": "ipython",
    "version": 3
   },
   "file_extension": ".py",
   "mimetype": "text/x-python",
   "name": "python",
   "nbconvert_exporter": "python",
   "pygments_lexer": "ipython3",
   "version": "3.13.1"
  }
 },
 "nbformat": 4,
 "nbformat_minor": 2
}
